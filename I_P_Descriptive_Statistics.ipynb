{
  "cells": [
    {
      "cell_type": "markdown",
      "metadata": {
        "id": "view-in-github",
        "colab_type": "text"
      },
      "source": [
        "<a href=\"https://colab.research.google.com/github/esther-nyokabi/Financial-Inclusion-/blob/main/I_P_Descriptive_Statistics.ipynb\" target=\"_parent\"><img src=\"https://colab.research.google.com/assets/colab-badge.svg\" alt=\"Open In Colab\"/></a>"
      ]
    },
    {
      "cell_type": "markdown",
      "metadata": {
        "id": "_ePef70tUH6Q"
      },
      "source": [
        "# Defining the question\n",
        "# Specifiying the data analytic question\n",
        "\n",
        "- Finding out how we can predict which individuals are most likely to have or use a bank account."
      ]
    },
    {
      "cell_type": "markdown",
      "metadata": {
        "id": "m0NwnqXBUVL5"
      },
      "source": [
        "#Defining the metric for success\n",
        "The objectives of this project will be met if the following can be determined:\n",
        "\n",
        "- Insight into the state of financial inclusion in the countries: Kenya, Uganda, Rwanda, Tanzania\n",
        "- Insight into some of the key demographic factors that might drive an individual's financial outcomes\n",
        "- Prediction of individuals most likely to have or use a bank account"
      ]
    },
    {
      "cell_type": "markdown",
      "metadata": {
        "id": "LXP86zGKUZ7d"
      },
      "source": [
        "# Understanding the context\n",
        "- Financial Inclusion remains one of the main obstacles to economic and human development in Africa. For example, across Kenya, Rwanda, Tanzania, and Uganda only 9.1 million adults (or 13.9% of the adult population) have access to or use a commercial bank account.\n",
        "\n",
        "Traditionally, access to bank accounts has been regarded as an indicator of financial inclusion. Despite the proliferation of mobile money in Africa and the growth of innovative fintech solutions, banks still play a pivotal role in facilitating access to financial services. Access to bank accounts enables households to save and facilitate payments while also helping businesses build up their credit-worthiness and improve their access to other financial services. Therefore, access to bank accounts is an essential contributor to long-term economic growth."
      ]
    },
    {
      "cell_type": "markdown",
      "metadata": {
        "id": "T3PNKyMlUia2"
      },
      "source": [
        "# Recording the experimental design taken\n",
        "- We'll perform Exploratory Data Analysis, i.e Univariate, Bivariate and Multivariate Analysis to get the relationships and differences between different variables to come up with a prediction on individuals who are most likely to have or use a bank account"
      ]
    },
    {
      "cell_type": "markdown",
      "metadata": {
        "id": "fEdia_qRUoPx"
      },
      "source": [
        "#The appropriateness of the available data to answer the given question\n",
        "- The available data is deemed as appropriate as the data contains all variables that will be required to perform analysis by country and by either demographic factors such as: age, gender, level of education, income level, area or residence, employment, marital status among other factors that influence an individuals financial outcomes."
      ]
    },
    {
      "cell_type": "markdown",
      "metadata": {
        "id": "tDhpYeFb2Dpn"
      },
      "source": [
        "#Importing Libraries"
      ]
    },
    {
      "cell_type": "code",
      "execution_count": null,
      "metadata": {
        "id": "YP2xIfia2RNN"
      },
      "outputs": [],
      "source": [
        "import pandas as pd # data manipulations\n",
        "import numpy as np # for computations\n",
        "import seaborn as sns # for visualizations\n",
        "import matplotlib.pyplot as plt # for visualizations\n",
        "import warnings\n",
        "warnings.filterwarnings(\"ignore\")"
      ]
    },
    {
      "cell_type": "markdown",
      "metadata": {
        "id": "aYPOcfamUGo4"
      },
      "source": []
    },
    {
      "cell_type": "markdown",
      "metadata": {
        "id": "VcItv20P2_Db"
      },
      "source": [
        "# Loading the dataset"
      ]
    },
    {
      "cell_type": "code",
      "execution_count": null,
      "metadata": {
        "colab": {
          "base_uri": "https://localhost:8080/",
          "height": 426
        },
        "id": "w41lTwcf3ERt",
        "outputId": "80d10cba-5558-463e-b510-04911f871500"
      },
      "outputs": [
        {
          "data": {
            "text/html": [
              "\n",
              "  <div id=\"df-50a91394-9685-494c-adfa-9daeead93133\">\n",
              "    <div class=\"colab-df-container\">\n",
              "      <div>\n",
              "<style scoped>\n",
              "    .dataframe tbody tr th:only-of-type {\n",
              "        vertical-align: middle;\n",
              "    }\n",
              "\n",
              "    .dataframe tbody tr th {\n",
              "        vertical-align: top;\n",
              "    }\n",
              "\n",
              "    .dataframe thead th {\n",
              "        text-align: right;\n",
              "    }\n",
              "</style>\n",
              "<table border=\"1\" class=\"dataframe\">\n",
              "  <thead>\n",
              "    <tr style=\"text-align: right;\">\n",
              "      <th></th>\n",
              "      <th>country</th>\n",
              "      <th>year</th>\n",
              "      <th>uniqueid</th>\n",
              "      <th>Has a Bank account</th>\n",
              "      <th>Type of Location</th>\n",
              "      <th>Cell Phone Access</th>\n",
              "      <th>household_size</th>\n",
              "      <th>Respondent Age</th>\n",
              "      <th>gender_of_respondent</th>\n",
              "      <th>The relathip with head</th>\n",
              "      <th>marital_status</th>\n",
              "      <th>Level of Educuation</th>\n",
              "      <th>Type of Job</th>\n",
              "    </tr>\n",
              "  </thead>\n",
              "  <tbody>\n",
              "    <tr>\n",
              "      <th>0</th>\n",
              "      <td>Kenya</td>\n",
              "      <td>2018</td>\n",
              "      <td>uniqueid_1</td>\n",
              "      <td>Yes</td>\n",
              "      <td>Rural</td>\n",
              "      <td>Yes</td>\n",
              "      <td>3.0</td>\n",
              "      <td>24.0</td>\n",
              "      <td>Female</td>\n",
              "      <td>Spouse</td>\n",
              "      <td>Married/Living together</td>\n",
              "      <td>Secondary education</td>\n",
              "      <td>Self employed</td>\n",
              "    </tr>\n",
              "    <tr>\n",
              "      <th>1</th>\n",
              "      <td>Kenya</td>\n",
              "      <td>2018</td>\n",
              "      <td>uniqueid_2</td>\n",
              "      <td>No</td>\n",
              "      <td>Rural</td>\n",
              "      <td>No</td>\n",
              "      <td>5.0</td>\n",
              "      <td>70.0</td>\n",
              "      <td>Female</td>\n",
              "      <td>Head of Household</td>\n",
              "      <td>Widowed</td>\n",
              "      <td>No formal education</td>\n",
              "      <td>Government Dependent</td>\n",
              "    </tr>\n",
              "    <tr>\n",
              "      <th>2</th>\n",
              "      <td>Kenya</td>\n",
              "      <td>2018</td>\n",
              "      <td>uniqueid_3</td>\n",
              "      <td>Yes</td>\n",
              "      <td>Urban</td>\n",
              "      <td>Yes</td>\n",
              "      <td>5.0</td>\n",
              "      <td>26.0</td>\n",
              "      <td>Male</td>\n",
              "      <td>Other relative</td>\n",
              "      <td>Single/Never Married</td>\n",
              "      <td>Vocational/Specialised training</td>\n",
              "      <td>Self employed</td>\n",
              "    </tr>\n",
              "    <tr>\n",
              "      <th>3</th>\n",
              "      <td>Kenya</td>\n",
              "      <td>2018</td>\n",
              "      <td>uniqueid_4</td>\n",
              "      <td>No</td>\n",
              "      <td>Rural</td>\n",
              "      <td>Yes</td>\n",
              "      <td>5.0</td>\n",
              "      <td>34.0</td>\n",
              "      <td>Female</td>\n",
              "      <td>Head of Household</td>\n",
              "      <td>Married/Living together</td>\n",
              "      <td>Primary education</td>\n",
              "      <td>Formally employed Private</td>\n",
              "    </tr>\n",
              "    <tr>\n",
              "      <th>4</th>\n",
              "      <td>Kenya</td>\n",
              "      <td>2018</td>\n",
              "      <td>uniqueid_5</td>\n",
              "      <td>No</td>\n",
              "      <td>Urban</td>\n",
              "      <td>No</td>\n",
              "      <td>8.0</td>\n",
              "      <td>26.0</td>\n",
              "      <td>Male</td>\n",
              "      <td>Child</td>\n",
              "      <td>Single/Never Married</td>\n",
              "      <td>Primary education</td>\n",
              "      <td>Informally employed</td>\n",
              "    </tr>\n",
              "  </tbody>\n",
              "</table>\n",
              "</div>\n",
              "      <button class=\"colab-df-convert\" onclick=\"convertToInteractive('df-50a91394-9685-494c-adfa-9daeead93133')\"\n",
              "              title=\"Convert this dataframe to an interactive table.\"\n",
              "              style=\"display:none;\">\n",
              "        \n",
              "  <svg xmlns=\"http://www.w3.org/2000/svg\" height=\"24px\"viewBox=\"0 0 24 24\"\n",
              "       width=\"24px\">\n",
              "    <path d=\"M0 0h24v24H0V0z\" fill=\"none\"/>\n",
              "    <path d=\"M18.56 5.44l.94 2.06.94-2.06 2.06-.94-2.06-.94-.94-2.06-.94 2.06-2.06.94zm-11 1L8.5 8.5l.94-2.06 2.06-.94-2.06-.94L8.5 2.5l-.94 2.06-2.06.94zm10 10l.94 2.06.94-2.06 2.06-.94-2.06-.94-.94-2.06-.94 2.06-2.06.94z\"/><path d=\"M17.41 7.96l-1.37-1.37c-.4-.4-.92-.59-1.43-.59-.52 0-1.04.2-1.43.59L10.3 9.45l-7.72 7.72c-.78.78-.78 2.05 0 2.83L4 21.41c.39.39.9.59 1.41.59.51 0 1.02-.2 1.41-.59l7.78-7.78 2.81-2.81c.8-.78.8-2.07 0-2.86zM5.41 20L4 18.59l7.72-7.72 1.47 1.35L5.41 20z\"/>\n",
              "  </svg>\n",
              "      </button>\n",
              "      \n",
              "  <style>\n",
              "    .colab-df-container {\n",
              "      display:flex;\n",
              "      flex-wrap:wrap;\n",
              "      gap: 12px;\n",
              "    }\n",
              "\n",
              "    .colab-df-convert {\n",
              "      background-color: #E8F0FE;\n",
              "      border: none;\n",
              "      border-radius: 50%;\n",
              "      cursor: pointer;\n",
              "      display: none;\n",
              "      fill: #1967D2;\n",
              "      height: 32px;\n",
              "      padding: 0 0 0 0;\n",
              "      width: 32px;\n",
              "    }\n",
              "\n",
              "    .colab-df-convert:hover {\n",
              "      background-color: #E2EBFA;\n",
              "      box-shadow: 0px 1px 2px rgba(60, 64, 67, 0.3), 0px 1px 3px 1px rgba(60, 64, 67, 0.15);\n",
              "      fill: #174EA6;\n",
              "    }\n",
              "\n",
              "    [theme=dark] .colab-df-convert {\n",
              "      background-color: #3B4455;\n",
              "      fill: #D2E3FC;\n",
              "    }\n",
              "\n",
              "    [theme=dark] .colab-df-convert:hover {\n",
              "      background-color: #434B5C;\n",
              "      box-shadow: 0px 1px 3px 1px rgba(0, 0, 0, 0.15);\n",
              "      filter: drop-shadow(0px 1px 2px rgba(0, 0, 0, 0.3));\n",
              "      fill: #FFFFFF;\n",
              "    }\n",
              "  </style>\n",
              "\n",
              "      <script>\n",
              "        const buttonEl =\n",
              "          document.querySelector('#df-50a91394-9685-494c-adfa-9daeead93133 button.colab-df-convert');\n",
              "        buttonEl.style.display =\n",
              "          google.colab.kernel.accessAllowed ? 'block' : 'none';\n",
              "\n",
              "        async function convertToInteractive(key) {\n",
              "          const element = document.querySelector('#df-50a91394-9685-494c-adfa-9daeead93133');\n",
              "          const dataTable =\n",
              "            await google.colab.kernel.invokeFunction('convertToInteractive',\n",
              "                                                     [key], {});\n",
              "          if (!dataTable) return;\n",
              "\n",
              "          const docLinkHtml = 'Like what you see? Visit the ' +\n",
              "            '<a target=\"_blank\" href=https://colab.research.google.com/notebooks/data_table.ipynb>data table notebook</a>'\n",
              "            + ' to learn more about interactive tables.';\n",
              "          element.innerHTML = '';\n",
              "          dataTable['output_type'] = 'display_data';\n",
              "          await google.colab.output.renderOutput(dataTable, element);\n",
              "          const docLink = document.createElement('div');\n",
              "          docLink.innerHTML = docLinkHtml;\n",
              "          element.appendChild(docLink);\n",
              "        }\n",
              "      </script>\n",
              "    </div>\n",
              "  </div>\n",
              "  "
            ],
            "text/plain": [
              "  country  year    uniqueid Has a Bank account Type of Location  \\\n",
              "0   Kenya  2018  uniqueid_1                Yes            Rural   \n",
              "1   Kenya  2018  uniqueid_2                 No            Rural   \n",
              "2   Kenya  2018  uniqueid_3                Yes            Urban   \n",
              "3   Kenya  2018  uniqueid_4                 No            Rural   \n",
              "4   Kenya  2018  uniqueid_5                 No            Urban   \n",
              "\n",
              "  Cell Phone Access  household_size  Respondent Age gender_of_respondent  \\\n",
              "0               Yes             3.0            24.0               Female   \n",
              "1                No             5.0            70.0               Female   \n",
              "2               Yes             5.0            26.0                 Male   \n",
              "3               Yes             5.0            34.0               Female   \n",
              "4                No             8.0            26.0                 Male   \n",
              "\n",
              "  The relathip with head           marital_status  \\\n",
              "0                 Spouse  Married/Living together   \n",
              "1      Head of Household                  Widowed   \n",
              "2         Other relative     Single/Never Married   \n",
              "3      Head of Household  Married/Living together   \n",
              "4                  Child     Single/Never Married   \n",
              "\n",
              "               Level of Educuation                Type of Job  \n",
              "0              Secondary education              Self employed  \n",
              "1              No formal education       Government Dependent  \n",
              "2  Vocational/Specialised training              Self employed  \n",
              "3                Primary education  Formally employed Private  \n",
              "4                Primary education        Informally employed  "
            ]
          },
          "execution_count": 2,
          "metadata": {},
          "output_type": "execute_result"
        }
      ],
      "source": [
        "data = pd.read_csv(\"Financial Dataset - 1.csv\")\n",
        "data.head(5)"
      ]
    },
    {
      "cell_type": "markdown",
      "metadata": {
        "id": "KxGafId3U3b6"
      },
      "source": [
        "# Exploring the Dataset"
      ]
    },
    {
      "cell_type": "code",
      "execution_count": null,
      "metadata": {
        "colab": {
          "base_uri": "https://localhost:8080/"
        },
        "id": "tANeL0qk6FLf",
        "outputId": "4b36af08-037c-40c2-c946-ca7edd0323a9"
      },
      "outputs": [
        {
          "data": {
            "text/plain": [
              "(23524, 13)"
            ]
          },
          "execution_count": 3,
          "metadata": {},
          "output_type": "execute_result"
        }
      ],
      "source": [
        "# Prieviewing the shapes of the datasets\n",
        "data.shape"
      ]
    },
    {
      "cell_type": "markdown",
      "metadata": {
        "id": "PgxnIfLL6Qb7"
      },
      "source": [
        "The data contains 16910 records and 13 columns"
      ]
    },
    {
      "cell_type": "code",
      "execution_count": null,
      "metadata": {
        "colab": {
          "base_uri": "https://localhost:8080/"
        },
        "id": "VuO-n2Fw6eMq",
        "outputId": "3beaf222-a4e5-4ffe-ad14-447e7f63e321"
      },
      "outputs": [
        {
          "name": "stdout",
          "output_type": "stream",
          "text": [
            "<class 'pandas.core.frame.DataFrame'>\n",
            "RangeIndex: 23524 entries, 0 to 23523\n",
            "Data columns (total 13 columns):\n",
            " #   Column                  Non-Null Count  Dtype  \n",
            "---  ------                  --------------  -----  \n",
            " 0   country                 23510 non-null  object \n",
            " 1   year                    23524 non-null  int64  \n",
            " 2   uniqueid                23524 non-null  object \n",
            " 3   Has a Bank account      23488 non-null  object \n",
            " 4   Type of Location        23509 non-null  object \n",
            " 5   Cell Phone Access       23513 non-null  object \n",
            " 6   household_size          23496 non-null  float64\n",
            " 7   Respondent Age          23490 non-null  float64\n",
            " 8   gender_of_respondent    23490 non-null  object \n",
            " 9   The relathip with head  23520 non-null  object \n",
            " 10  marital_status          23492 non-null  object \n",
            " 11  Level of Educuation     23495 non-null  object \n",
            " 12  Type of Job             23494 non-null  object \n",
            "dtypes: float64(2), int64(1), object(10)\n",
            "memory usage: 2.3+ MB\n"
          ]
        }
      ],
      "source": [
        "# Checking the dataset information\n",
        "data.info()"
      ]
    },
    {
      "cell_type": "code",
      "execution_count": null,
      "metadata": {
        "colab": {
          "base_uri": "https://localhost:8080/",
          "height": 528
        },
        "id": "ln_n9qYlQ1Up",
        "outputId": "a396dcad-9388-454e-b8a7-0fb0c06d1fd5"
      },
      "outputs": [
        {
          "data": {
            "text/html": [
              "\n",
              "  <div id=\"df-66414a0e-5c45-4d95-973c-decf2424eff6\">\n",
              "    <div class=\"colab-df-container\">\n",
              "      <div>\n",
              "<style scoped>\n",
              "    .dataframe tbody tr th:only-of-type {\n",
              "        vertical-align: middle;\n",
              "    }\n",
              "\n",
              "    .dataframe tbody tr th {\n",
              "        vertical-align: top;\n",
              "    }\n",
              "\n",
              "    .dataframe thead th {\n",
              "        text-align: right;\n",
              "    }\n",
              "</style>\n",
              "<table border=\"1\" class=\"dataframe\">\n",
              "  <thead>\n",
              "    <tr style=\"text-align: right;\">\n",
              "      <th></th>\n",
              "      <th>country</th>\n",
              "      <th>year</th>\n",
              "      <th>uniqueid</th>\n",
              "      <th>Has a Bank account</th>\n",
              "      <th>Type of Location</th>\n",
              "      <th>Cell Phone Access</th>\n",
              "      <th>household_size</th>\n",
              "      <th>Respondent Age</th>\n",
              "      <th>gender_of_respondent</th>\n",
              "      <th>The relathip with head</th>\n",
              "      <th>marital_status</th>\n",
              "      <th>Level of Educuation</th>\n",
              "      <th>Type of Job</th>\n",
              "    </tr>\n",
              "  </thead>\n",
              "  <tbody>\n",
              "    <tr>\n",
              "      <th>count</th>\n",
              "      <td>23510</td>\n",
              "      <td>23524.000000</td>\n",
              "      <td>23524</td>\n",
              "      <td>23488</td>\n",
              "      <td>23509</td>\n",
              "      <td>23513</td>\n",
              "      <td>23496.000000</td>\n",
              "      <td>23490.000000</td>\n",
              "      <td>23490</td>\n",
              "      <td>23520</td>\n",
              "      <td>23492</td>\n",
              "      <td>23495</td>\n",
              "      <td>23494</td>\n",
              "    </tr>\n",
              "    <tr>\n",
              "      <th>unique</th>\n",
              "      <td>4</td>\n",
              "      <td>NaN</td>\n",
              "      <td>8735</td>\n",
              "      <td>2</td>\n",
              "      <td>2</td>\n",
              "      <td>2</td>\n",
              "      <td>NaN</td>\n",
              "      <td>NaN</td>\n",
              "      <td>2</td>\n",
              "      <td>6</td>\n",
              "      <td>5</td>\n",
              "      <td>7</td>\n",
              "      <td>10</td>\n",
              "    </tr>\n",
              "    <tr>\n",
              "      <th>top</th>\n",
              "      <td>Rwanda</td>\n",
              "      <td>NaN</td>\n",
              "      <td>uniqueid_1</td>\n",
              "      <td>No</td>\n",
              "      <td>Rural</td>\n",
              "      <td>Yes</td>\n",
              "      <td>NaN</td>\n",
              "      <td>NaN</td>\n",
              "      <td>Female</td>\n",
              "      <td>Head of Household</td>\n",
              "      <td>Married/Living together</td>\n",
              "      <td>Primary education</td>\n",
              "      <td>Self employed</td>\n",
              "    </tr>\n",
              "    <tr>\n",
              "      <th>freq</th>\n",
              "      <td>8735</td>\n",
              "      <td>NaN</td>\n",
              "      <td>4</td>\n",
              "      <td>20179</td>\n",
              "      <td>14338</td>\n",
              "      <td>17449</td>\n",
              "      <td>NaN</td>\n",
              "      <td>NaN</td>\n",
              "      <td>13859</td>\n",
              "      <td>12829</td>\n",
              "      <td>10739</td>\n",
              "      <td>12775</td>\n",
              "      <td>6428</td>\n",
              "    </tr>\n",
              "    <tr>\n",
              "      <th>mean</th>\n",
              "      <td>NaN</td>\n",
              "      <td>2016.979000</td>\n",
              "      <td>NaN</td>\n",
              "      <td>NaN</td>\n",
              "      <td>NaN</td>\n",
              "      <td>NaN</td>\n",
              "      <td>3.681818</td>\n",
              "      <td>38.804300</td>\n",
              "      <td>NaN</td>\n",
              "      <td>NaN</td>\n",
              "      <td>NaN</td>\n",
              "      <td>NaN</td>\n",
              "      <td>NaN</td>\n",
              "    </tr>\n",
              "    <tr>\n",
              "      <th>std</th>\n",
              "      <td>NaN</td>\n",
              "      <td>0.899669</td>\n",
              "      <td>NaN</td>\n",
              "      <td>NaN</td>\n",
              "      <td>NaN</td>\n",
              "      <td>NaN</td>\n",
              "      <td>2.279933</td>\n",
              "      <td>16.519996</td>\n",
              "      <td>NaN</td>\n",
              "      <td>NaN</td>\n",
              "      <td>NaN</td>\n",
              "      <td>NaN</td>\n",
              "      <td>NaN</td>\n",
              "    </tr>\n",
              "    <tr>\n",
              "      <th>min</th>\n",
              "      <td>NaN</td>\n",
              "      <td>2016.000000</td>\n",
              "      <td>NaN</td>\n",
              "      <td>NaN</td>\n",
              "      <td>NaN</td>\n",
              "      <td>NaN</td>\n",
              "      <td>0.000000</td>\n",
              "      <td>16.000000</td>\n",
              "      <td>NaN</td>\n",
              "      <td>NaN</td>\n",
              "      <td>NaN</td>\n",
              "      <td>NaN</td>\n",
              "      <td>NaN</td>\n",
              "    </tr>\n",
              "    <tr>\n",
              "      <th>25%</th>\n",
              "      <td>NaN</td>\n",
              "      <td>2016.000000</td>\n",
              "      <td>NaN</td>\n",
              "      <td>NaN</td>\n",
              "      <td>NaN</td>\n",
              "      <td>NaN</td>\n",
              "      <td>2.000000</td>\n",
              "      <td>26.000000</td>\n",
              "      <td>NaN</td>\n",
              "      <td>NaN</td>\n",
              "      <td>NaN</td>\n",
              "      <td>NaN</td>\n",
              "      <td>NaN</td>\n",
              "    </tr>\n",
              "    <tr>\n",
              "      <th>50%</th>\n",
              "      <td>NaN</td>\n",
              "      <td>2017.000000</td>\n",
              "      <td>NaN</td>\n",
              "      <td>NaN</td>\n",
              "      <td>NaN</td>\n",
              "      <td>NaN</td>\n",
              "      <td>3.000000</td>\n",
              "      <td>35.000000</td>\n",
              "      <td>NaN</td>\n",
              "      <td>NaN</td>\n",
              "      <td>NaN</td>\n",
              "      <td>NaN</td>\n",
              "      <td>NaN</td>\n",
              "    </tr>\n",
              "    <tr>\n",
              "      <th>75%</th>\n",
              "      <td>NaN</td>\n",
              "      <td>2018.000000</td>\n",
              "      <td>NaN</td>\n",
              "      <td>NaN</td>\n",
              "      <td>NaN</td>\n",
              "      <td>NaN</td>\n",
              "      <td>5.000000</td>\n",
              "      <td>49.000000</td>\n",
              "      <td>NaN</td>\n",
              "      <td>NaN</td>\n",
              "      <td>NaN</td>\n",
              "      <td>NaN</td>\n",
              "      <td>NaN</td>\n",
              "    </tr>\n",
              "    <tr>\n",
              "      <th>max</th>\n",
              "      <td>NaN</td>\n",
              "      <td>2056.000000</td>\n",
              "      <td>NaN</td>\n",
              "      <td>NaN</td>\n",
              "      <td>NaN</td>\n",
              "      <td>NaN</td>\n",
              "      <td>21.000000</td>\n",
              "      <td>100.000000</td>\n",
              "      <td>NaN</td>\n",
              "      <td>NaN</td>\n",
              "      <td>NaN</td>\n",
              "      <td>NaN</td>\n",
              "      <td>NaN</td>\n",
              "    </tr>\n",
              "  </tbody>\n",
              "</table>\n",
              "</div>\n",
              "      <button class=\"colab-df-convert\" onclick=\"convertToInteractive('df-66414a0e-5c45-4d95-973c-decf2424eff6')\"\n",
              "              title=\"Convert this dataframe to an interactive table.\"\n",
              "              style=\"display:none;\">\n",
              "        \n",
              "  <svg xmlns=\"http://www.w3.org/2000/svg\" height=\"24px\"viewBox=\"0 0 24 24\"\n",
              "       width=\"24px\">\n",
              "    <path d=\"M0 0h24v24H0V0z\" fill=\"none\"/>\n",
              "    <path d=\"M18.56 5.44l.94 2.06.94-2.06 2.06-.94-2.06-.94-.94-2.06-.94 2.06-2.06.94zm-11 1L8.5 8.5l.94-2.06 2.06-.94-2.06-.94L8.5 2.5l-.94 2.06-2.06.94zm10 10l.94 2.06.94-2.06 2.06-.94-2.06-.94-.94-2.06-.94 2.06-2.06.94z\"/><path d=\"M17.41 7.96l-1.37-1.37c-.4-.4-.92-.59-1.43-.59-.52 0-1.04.2-1.43.59L10.3 9.45l-7.72 7.72c-.78.78-.78 2.05 0 2.83L4 21.41c.39.39.9.59 1.41.59.51 0 1.02-.2 1.41-.59l7.78-7.78 2.81-2.81c.8-.78.8-2.07 0-2.86zM5.41 20L4 18.59l7.72-7.72 1.47 1.35L5.41 20z\"/>\n",
              "  </svg>\n",
              "      </button>\n",
              "      \n",
              "  <style>\n",
              "    .colab-df-container {\n",
              "      display:flex;\n",
              "      flex-wrap:wrap;\n",
              "      gap: 12px;\n",
              "    }\n",
              "\n",
              "    .colab-df-convert {\n",
              "      background-color: #E8F0FE;\n",
              "      border: none;\n",
              "      border-radius: 50%;\n",
              "      cursor: pointer;\n",
              "      display: none;\n",
              "      fill: #1967D2;\n",
              "      height: 32px;\n",
              "      padding: 0 0 0 0;\n",
              "      width: 32px;\n",
              "    }\n",
              "\n",
              "    .colab-df-convert:hover {\n",
              "      background-color: #E2EBFA;\n",
              "      box-shadow: 0px 1px 2px rgba(60, 64, 67, 0.3), 0px 1px 3px 1px rgba(60, 64, 67, 0.15);\n",
              "      fill: #174EA6;\n",
              "    }\n",
              "\n",
              "    [theme=dark] .colab-df-convert {\n",
              "      background-color: #3B4455;\n",
              "      fill: #D2E3FC;\n",
              "    }\n",
              "\n",
              "    [theme=dark] .colab-df-convert:hover {\n",
              "      background-color: #434B5C;\n",
              "      box-shadow: 0px 1px 3px 1px rgba(0, 0, 0, 0.15);\n",
              "      filter: drop-shadow(0px 1px 2px rgba(0, 0, 0, 0.3));\n",
              "      fill: #FFFFFF;\n",
              "    }\n",
              "  </style>\n",
              "\n",
              "      <script>\n",
              "        const buttonEl =\n",
              "          document.querySelector('#df-66414a0e-5c45-4d95-973c-decf2424eff6 button.colab-df-convert');\n",
              "        buttonEl.style.display =\n",
              "          google.colab.kernel.accessAllowed ? 'block' : 'none';\n",
              "\n",
              "        async function convertToInteractive(key) {\n",
              "          const element = document.querySelector('#df-66414a0e-5c45-4d95-973c-decf2424eff6');\n",
              "          const dataTable =\n",
              "            await google.colab.kernel.invokeFunction('convertToInteractive',\n",
              "                                                     [key], {});\n",
              "          if (!dataTable) return;\n",
              "\n",
              "          const docLinkHtml = 'Like what you see? Visit the ' +\n",
              "            '<a target=\"_blank\" href=https://colab.research.google.com/notebooks/data_table.ipynb>data table notebook</a>'\n",
              "            + ' to learn more about interactive tables.';\n",
              "          element.innerHTML = '';\n",
              "          dataTable['output_type'] = 'display_data';\n",
              "          await google.colab.output.renderOutput(dataTable, element);\n",
              "          const docLink = document.createElement('div');\n",
              "          docLink.innerHTML = docLinkHtml;\n",
              "          element.appendChild(docLink);\n",
              "        }\n",
              "      </script>\n",
              "    </div>\n",
              "  </div>\n",
              "  "
            ],
            "text/plain": [
              "       country          year    uniqueid Has a Bank account Type of Location  \\\n",
              "count    23510  23524.000000       23524              23488            23509   \n",
              "unique       4           NaN        8735                  2                2   \n",
              "top     Rwanda           NaN  uniqueid_1                 No            Rural   \n",
              "freq      8735           NaN           4              20179            14338   \n",
              "mean       NaN   2016.979000         NaN                NaN              NaN   \n",
              "std        NaN      0.899669         NaN                NaN              NaN   \n",
              "min        NaN   2016.000000         NaN                NaN              NaN   \n",
              "25%        NaN   2016.000000         NaN                NaN              NaN   \n",
              "50%        NaN   2017.000000         NaN                NaN              NaN   \n",
              "75%        NaN   2018.000000         NaN                NaN              NaN   \n",
              "max        NaN   2056.000000         NaN                NaN              NaN   \n",
              "\n",
              "       Cell Phone Access  household_size  Respondent Age gender_of_respondent  \\\n",
              "count              23513    23496.000000    23490.000000                23490   \n",
              "unique                 2             NaN             NaN                    2   \n",
              "top                  Yes             NaN             NaN               Female   \n",
              "freq               17449             NaN             NaN                13859   \n",
              "mean                 NaN        3.681818       38.804300                  NaN   \n",
              "std                  NaN        2.279933       16.519996                  NaN   \n",
              "min                  NaN        0.000000       16.000000                  NaN   \n",
              "25%                  NaN        2.000000       26.000000                  NaN   \n",
              "50%                  NaN        3.000000       35.000000                  NaN   \n",
              "75%                  NaN        5.000000       49.000000                  NaN   \n",
              "max                  NaN       21.000000      100.000000                  NaN   \n",
              "\n",
              "       The relathip with head           marital_status Level of Educuation  \\\n",
              "count                   23520                    23492               23495   \n",
              "unique                      6                        5                   7   \n",
              "top         Head of Household  Married/Living together   Primary education   \n",
              "freq                    12829                    10739               12775   \n",
              "mean                      NaN                      NaN                 NaN   \n",
              "std                       NaN                      NaN                 NaN   \n",
              "min                       NaN                      NaN                 NaN   \n",
              "25%                       NaN                      NaN                 NaN   \n",
              "50%                       NaN                      NaN                 NaN   \n",
              "75%                       NaN                      NaN                 NaN   \n",
              "max                       NaN                      NaN                 NaN   \n",
              "\n",
              "          Type of Job  \n",
              "count           23494  \n",
              "unique             10  \n",
              "top     Self employed  \n",
              "freq             6428  \n",
              "mean              NaN  \n",
              "std               NaN  \n",
              "min               NaN  \n",
              "25%               NaN  \n",
              "50%               NaN  \n",
              "75%               NaN  \n",
              "max               NaN  "
            ]
          },
          "execution_count": 5,
          "metadata": {},
          "output_type": "execute_result"
        }
      ],
      "source": [
        "data.describe(include='all')"
      ]
    },
    {
      "cell_type": "markdown",
      "metadata": {
        "id": "BqlPJUEDEX4Q"
      },
      "source": [
        "# Cleaning the Data"
      ]
    },
    {
      "cell_type": "code",
      "execution_count": null,
      "metadata": {
        "colab": {
          "base_uri": "https://localhost:8080/"
        },
        "id": "mJR-gbhbDQ1h",
        "outputId": "eeef9883-a552-4d6a-fcc7-5aaeca292e29"
      },
      "outputs": [
        {
          "data": {
            "text/plain": [
              "Index(['country', 'year', 'uniqueid', 'Has a Bank account', 'Type of Location',\n",
              "       'Cell Phone Access', 'household_size', 'Respondent Age',\n",
              "       'gender_of_respondent', 'The relathip with head', 'marital_status',\n",
              "       'Level of Educuation', 'Type of Job'],\n",
              "      dtype='object')"
            ]
          },
          "execution_count": 6,
          "metadata": {},
          "output_type": "execute_result"
        }
      ],
      "source": [
        "data.columns"
      ]
    },
    {
      "cell_type": "code",
      "execution_count": null,
      "metadata": {
        "colab": {
          "base_uri": "https://localhost:8080/"
        },
        "id": "Ay-lOoBpDNO1",
        "outputId": "907ece5c-8192-4aaf-90fe-524b406a7f72"
      },
      "outputs": [
        {
          "data": {
            "text/plain": [
              "Index(['country', 'year', 'uniqueid', 'Has_a_Bank_account', 'Type_of_Location',\n",
              "       'Cell_Phone_Access', 'household_size', 'Respondent_Age',\n",
              "       'gender_of_respondent', 'relationship_with_head', 'marital_status',\n",
              "       'level_of_education', 'Type_of_Job'],\n",
              "      dtype='object')"
            ]
          },
          "execution_count": 7,
          "metadata": {},
          "output_type": "execute_result"
        }
      ],
      "source": [
        "# renaming columns\n",
        "data.rename(columns={'The relathip with head': 'relationship_with_head', 'Level of Educuation':'level_of_education'}, inplace = True)\n",
        "data.columns\n",
        "\n",
        "# Replacing columns with whitespaces with an underscore\n",
        "data.columns = data.columns.str.replace(' ', '_')\n",
        "data.columns"
      ]
    },
    {
      "cell_type": "code",
      "execution_count": null,
      "metadata": {
        "colab": {
          "base_uri": "https://localhost:8080/"
        },
        "id": "5gtb8UQM69E4",
        "outputId": "c7324d52-76bb-4d2e-c3d9-312f5777449c"
      },
      "outputs": [
        {
          "data": {
            "text/plain": [
              "True"
            ]
          },
          "execution_count": 8,
          "metadata": {},
          "output_type": "execute_result"
        }
      ],
      "source": [
        "# previewing any missing data\n",
        "data.isnull().sum().any()"
      ]
    },
    {
      "cell_type": "code",
      "execution_count": null,
      "metadata": {
        "colab": {
          "base_uri": "https://localhost:8080/"
        },
        "id": "AjED4u7ADgJe",
        "outputId": "2cd9d6ce-2a2a-40c9-f809-7cc94052045f"
      },
      "outputs": [
        {
          "data": {
            "text/plain": [
              "267"
            ]
          },
          "execution_count": 9,
          "metadata": {},
          "output_type": "execute_result"
        }
      ],
      "source": [
        "# The total count of missing values\n",
        "data.isnull().sum().sum()"
      ]
    },
    {
      "cell_type": "code",
      "execution_count": null,
      "metadata": {
        "colab": {
          "base_uri": "https://localhost:8080/"
        },
        "id": "6OKVyxYbEBet",
        "outputId": "86313f28-36aa-4ed3-9efc-12122ce4b719"
      },
      "outputs": [
        {
          "data": {
            "text/plain": [
              "country                   14\n",
              "year                       0\n",
              "uniqueid                   0\n",
              "Has_a_Bank_account        36\n",
              "Type_of_Location          15\n",
              "Cell_Phone_Access         11\n",
              "household_size            28\n",
              "Respondent_Age            34\n",
              "gender_of_respondent      34\n",
              "relationship_with_head     4\n",
              "marital_status            32\n",
              "level_of_education        29\n",
              "Type_of_Job               30\n",
              "dtype: int64"
            ]
          },
          "execution_count": 10,
          "metadata": {},
          "output_type": "execute_result"
        }
      ],
      "source": [
        "# Total missing values for each feature\n",
        "data.isnull().sum()"
      ]
    },
    {
      "cell_type": "code",
      "execution_count": null,
      "metadata": {
        "colab": {
          "base_uri": "https://localhost:8080/"
        },
        "id": "I2FXVfKJFByq",
        "outputId": "67bb1daf-b71f-43d8-b73a-1526e07e6de4"
      },
      "outputs": [
        {
          "data": {
            "text/plain": [
              "country                   0\n",
              "year                      0\n",
              "uniqueid                  0\n",
              "Has_a_Bank_account        0\n",
              "Type_of_Location          0\n",
              "Cell_Phone_Access         0\n",
              "household_size            0\n",
              "Respondent_Age            0\n",
              "gender_of_respondent      0\n",
              "relationship_with_head    0\n",
              "marital_status            0\n",
              "level_of_education        0\n",
              "Type_of_Job               0\n",
              "dtype: int64"
            ]
          },
          "execution_count": 11,
          "metadata": {},
          "output_type": "execute_result"
        }
      ],
      "source": [
        "# drop null values \n",
        "d = data.dropna()\n",
        "d.isnull().sum()"
      ]
    },
    {
      "cell_type": "code",
      "execution_count": null,
      "metadata": {
        "colab": {
          "base_uri": "https://localhost:8080/"
        },
        "id": "FkvTLqiMR6-f",
        "outputId": "103e2af7-bba2-4624-f68e-a3701d77a8ec"
      },
      "outputs": [
        {
          "data": {
            "text/plain": [
              "0"
            ]
          },
          "execution_count": 12,
          "metadata": {},
          "output_type": "execute_result"
        }
      ],
      "source": [
        "# Checking for duplicates\n",
        "data.duplicated().sum()"
      ]
    },
    {
      "cell_type": "code",
      "execution_count": null,
      "metadata": {
        "colab": {
          "base_uri": "https://localhost:8080/",
          "height": 412
        },
        "id": "EfWJEE_6G8HL",
        "outputId": "6d5ceab8-b66f-467d-df90-36a7dfb066f0"
      },
      "outputs": [
        {
          "name": "stdout",
          "output_type": "stream",
          "text": [
            "(23343, 13)\n",
            "(22725, 13)\n"
          ]
        },
        {
          "data": {
            "image/png": "[encoded data removed]",
            "text/plain": [
              "<Figure size 576x432 with 1 Axes>"
            ]
          },
          "metadata": {},
          "output_type": "display_data"
        }
      ],
      "source": [
        "# checking for outliers \n",
        "d.boxplot(figsize=(8, 6), fontsize=10)\n",
        "\n",
        "# print size of the data with outliers present\n",
        "print(d.shape)\n",
        "\n",
        "# removing outliers\n",
        "Q1 = d.quantile(0.25)\n",
        "Q3 = d.quantile(0.75)\n",
        "IQR = Q3 - Q1\n",
        "df = d[~((d < (Q1 - 1.5 * IQR)) | (d > (Q3 + 1.5 * IQR))).any(axis=1)]\n",
        "\n",
        "# print size of the data after dealing with outliers\n",
        "print(df.shape)"
      ]
    },
    {
      "cell_type": "code",
      "execution_count": null,
      "metadata": {
        "colab": {
          "base_uri": "https://localhost:8080/",
          "height": 284
        },
        "id": "AQKHVUGjHXVj",
        "outputId": "c5451cc4-3b0c-4a69-c7ca-700c16cfc616"
      },
      "outputs": [
        {
          "data": {
            "text/plain": [
              "<matplotlib.axes._subplots.AxesSubplot at 0x7f3bd7c5afd0>"
            ]
          },
          "execution_count": 14,
          "metadata": {},
          "output_type": "execute_result"
        },
        {
          "data": {
            "image/png": "[encoded data removed]",
            "text/plain": [
              "<Figure size 432x288 with 1 Axes>"
            ]
          },
          "metadata": {},
          "output_type": "display_data"
        }
      ],
      "source": [
        "# plot of the new data, without ouliers\n",
        "df.boxplot()"
      ]
    },
    {
      "cell_type": "code",
      "execution_count": null,
      "metadata": {
        "colab": {
          "base_uri": "https://localhost:8080/"
        },
        "id": "0DmuhgniJc4-",
        "outputId": "768effa4-fec0-4fdb-f3f7-77e0a98d5da6"
      },
      "outputs": [
        {
          "name": "stdout",
          "output_type": "stream",
          "text": [
            "3.0 3.0\n"
          ]
        }
      ],
      "source": [
        "# checking for anomalies\n",
        "# getting the quantiles\n",
        "q1 = df['household_size'].quantile(.25)\n",
        "q3 = df['household_size'].quantile(.75)\n",
        "\n",
        "# calculating inter-quartile range using values from above\n",
        "iqr_31_house = q3 - q1\n",
        "\n",
        "# another way is to find quantiles using the percentiles from the numpy library\n",
        "q1_h, q3_h = np.percentile(df['household_size'], [25, 75]) \n",
        "# IQR\n",
        "iqr_31_h = q3_h - q1_h\n",
        "\n",
        "# compare if the two values are similar\n",
        "print(iqr_31_house, iqr_31_h)"
      ]
    },
    {
      "cell_type": "markdown",
      "metadata": {
        "id": "b4nRo5uaDEE0"
      },
      "source": [
        "# Variable Identification\n",
        "- First, we identify independent and dependent variables. \n",
        "\n",
        "The challenge is to predict the likelihood of an individual to posses a bank account depending on age,education level,marital status,cellphone access,location, job type etc.\n",
        "\n",
        "Thus, the dependent column is bank_account and the rest of columns are independent variable"
      ]
    },
    {
      "cell_type": "markdown",
      "metadata": {
        "id": "vy9hhN7LJsP6"
      },
      "source": [
        "# Exploratory Data Analysis"
      ]
    },
    {
      "cell_type": "markdown",
      "metadata": {
        "id": "wvrMWFL5S_Cv"
      },
      "source": [
        "##**Univariate Analysis**"
      ]
    },
    {
      "cell_type": "code",
      "execution_count": null,
      "metadata": {
        "colab": {
          "base_uri": "https://localhost:8080/",
          "height": 206
        },
        "id": "MjDiy_U75bBa",
        "outputId": "e5954906-88c2-4e3b-d088-0dcf9326b185"
      },
      "outputs": [
        {
          "data": {
            "text/html": [
              "\n",
              "  <div id=\"df-15d119d6-ba17-4f66-88a3-7b06ba10e5ef\">\n",
              "    <div class=\"colab-df-container\">\n",
              "      <div>\n",
              "<style scoped>\n",
              "    .dataframe tbody tr th:only-of-type {\n",
              "        vertical-align: middle;\n",
              "    }\n",
              "\n",
              "    .dataframe tbody tr th {\n",
              "        vertical-align: top;\n",
              "    }\n",
              "\n",
              "    .dataframe thead th {\n",
              "        text-align: right;\n",
              "    }\n",
              "</style>\n",
              "<table border=\"1\" class=\"dataframe\">\n",
              "  <thead>\n",
              "    <tr style=\"text-align: right;\">\n",
              "      <th></th>\n",
              "      <th>Variable Definitions</th>\n",
              "      <th>Unnamed: 1</th>\n",
              "    </tr>\n",
              "  </thead>\n",
              "  <tbody>\n",
              "    <tr>\n",
              "      <th>0</th>\n",
              "      <td>country</td>\n",
              "      <td>Country interviewee is in.</td>\n",
              "    </tr>\n",
              "    <tr>\n",
              "      <th>1</th>\n",
              "      <td>year</td>\n",
              "      <td>Year survey was done in.</td>\n",
              "    </tr>\n",
              "    <tr>\n",
              "      <th>2</th>\n",
              "      <td>uniqueid</td>\n",
              "      <td>Unique identifier for each interviewee</td>\n",
              "    </tr>\n",
              "    <tr>\n",
              "      <th>3</th>\n",
              "      <td>location_type</td>\n",
              "      <td>Type of location: Rural, Urban</td>\n",
              "    </tr>\n",
              "    <tr>\n",
              "      <th>4</th>\n",
              "      <td>cellphone_access</td>\n",
              "      <td>If interviewee has access to a cellphone: Yes, No</td>\n",
              "    </tr>\n",
              "  </tbody>\n",
              "</table>\n",
              "</div>\n",
              "      <button class=\"colab-df-convert\" onclick=\"convertToInteractive('df-15d119d6-ba17-4f66-88a3-7b06ba10e5ef')\"\n",
              "              title=\"Convert this dataframe to an interactive table.\"\n",
              "              style=\"display:none;\">\n",
              "        \n",
              "  <svg xmlns=\"http://www.w3.org/2000/svg\" height=\"24px\"viewBox=\"0 0 24 24\"\n",
              "       width=\"24px\">\n",
              "    <path d=\"M0 0h24v24H0V0z\" fill=\"none\"/>\n",
              "    <path d=\"M18.56 5.44l.94 2.06.94-2.06 2.06-.94-2.06-.94-.94-2.06-.94 2.06-2.06.94zm-11 1L8.5 8.5l.94-2.06 2.06-.94-2.06-.94L8.5 2.5l-.94 2.06-2.06.94zm10 10l.94 2.06.94-2.06 2.06-.94-2.06-.94-.94-2.06-.94 2.06-2.06.94z\"/><path d=\"M17.41 7.96l-1.37-1.37c-.4-.4-.92-.59-1.43-.59-.52 0-1.04.2-1.43.59L10.3 9.45l-7.72 7.72c-.78.78-.78 2.05 0 2.83L4 21.41c.39.39.9.59 1.41.59.51 0 1.02-.2 1.41-.59l7.78-7.78 2.81-2.81c.8-.78.8-2.07 0-2.86zM5.41 20L4 18.59l7.72-7.72 1.47 1.35L5.41 20z\"/>\n",
              "  </svg>\n",
              "      </button>\n",
              "      \n",
              "  <style>\n",
              "    .colab-df-container {\n",
              "      display:flex;\n",
              "      flex-wrap:wrap;\n",
              "      gap: 12px;\n",
              "    }\n",
              "\n",
              "    .colab-df-convert {\n",
              "      background-color: #E8F0FE;\n",
              "      border: none;\n",
              "      border-radius: 50%;\n",
              "      cursor: pointer;\n",
              "      display: none;\n",
              "      fill: #1967D2;\n",
              "      height: 32px;\n",
              "      padding: 0 0 0 0;\n",
              "      width: 32px;\n",
              "    }\n",
              "\n",
              "    .colab-df-convert:hover {\n",
              "      background-color: #E2EBFA;\n",
              "      box-shadow: 0px 1px 2px rgba(60, 64, 67, 0.3), 0px 1px 3px 1px rgba(60, 64, 67, 0.15);\n",
              "      fill: #174EA6;\n",
              "    }\n",
              "\n",
              "    [theme=dark] .colab-df-convert {\n",
              "      background-color: #3B4455;\n",
              "      fill: #D2E3FC;\n",
              "    }\n",
              "\n",
              "    [theme=dark] .colab-df-convert:hover {\n",
              "      background-color: #434B5C;\n",
              "      box-shadow: 0px 1px 3px 1px rgba(0, 0, 0, 0.15);\n",
              "      filter: drop-shadow(0px 1px 2px rgba(0, 0, 0, 0.3));\n",
              "      fill: #FFFFFF;\n",
              "    }\n",
              "  </style>\n",
              "\n",
              "      <script>\n",
              "        const buttonEl =\n",
              "          document.querySelector('#df-15d119d6-ba17-4f66-88a3-7b06ba10e5ef button.colab-df-convert');\n",
              "        buttonEl.style.display =\n",
              "          google.colab.kernel.accessAllowed ? 'block' : 'none';\n",
              "\n",
              "        async function convertToInteractive(key) {\n",
              "          const element = document.querySelector('#df-15d119d6-ba17-4f66-88a3-7b06ba10e5ef');\n",
              "          const dataTable =\n",
              "            await google.colab.kernel.invokeFunction('convertToInteractive',\n",
              "                                                     [key], {});\n",
              "          if (!dataTable) return;\n",
              "\n",
              "          const docLinkHtml = 'Like what you see? Visit the ' +\n",
              "            '<a target=\"_blank\" href=https://colab.research.google.com/notebooks/data_table.ipynb>data table notebook</a>'\n",
              "            + ' to learn more about interactive tables.';\n",
              "          element.innerHTML = '';\n",
              "          dataTable['output_type'] = 'display_data';\n",
              "          await google.colab.output.renderOutput(dataTable, element);\n",
              "          const docLink = document.createElement('div');\n",
              "          docLink.innerHTML = docLinkHtml;\n",
              "          element.appendChild(docLink);\n",
              "        }\n",
              "      </script>\n",
              "    </div>\n",
              "  </div>\n",
              "  "
            ],
            "text/plain": [
              "  Variable Definitions                                         Unnamed: 1\n",
              "0              country                         Country interviewee is in.\n",
              "1                 year                           Year survey was done in.\n",
              "2             uniqueid             Unique identifier for each interviewee\n",
              "3        location_type                     Type of location: Rural, Urban\n",
              "4     cellphone_access  If interviewee has access to a cellphone: Yes, No"
            ]
          },
          "execution_count": 16,
          "metadata": {},
          "output_type": "execute_result"
        }
      ],
      "source": [
        "# loading the variable definition file data to understand what each column means\n",
        "data1 = pd.read_csv(\"VariableDefinitions.csv\")\n",
        "data1.head(5)"
      ]
    },
    {
      "cell_type": "markdown",
      "metadata": {
        "id": "gw_69vY-8rjI"
      },
      "source": [
        "#### Numerical Variables"
      ]
    },
    {
      "cell_type": "code",
      "execution_count": null,
      "metadata": {
        "colab": {
          "base_uri": "https://localhost:8080/",
          "height": 458
        },
        "id": "ynC06_dymYEL",
        "outputId": "88b20a31-4ad9-479c-b8ac-72fe62f464a3"
      },
      "outputs": [
        {
          "data": {
            "image/png": "[encoded data removed]",
            "text/plain": [
              "<Figure size 1008x504 with 1 Axes>"
            ]
          },
          "metadata": {},
          "output_type": "display_data"
        }
      ],
      "source": [
        "# Let's explore age distribution using histogram\n",
        "plt.figure(figsize=(14,7))\n",
        "data.Respondent_Age.hist() \n",
        "plt.title(\"Age Distribution\")\n",
        "plt.xlabel('Age')\n",
        "plt.show()"
      ]
    },
    {
      "cell_type": "markdown",
      "metadata": {
        "id": "E70B824cPerd"
      },
      "source": [
        "The majority of respondents from our dataset are between 20 - 40 years old, the minority being between 80-100"
      ]
    },
    {
      "cell_type": "code",
      "execution_count": null,
      "metadata": {
        "colab": {
          "base_uri": "https://localhost:8080/"
        },
        "id": "GPF90X7bP1yA",
        "outputId": "ea5ee3a0-990c-423f-e563-eec13ca28632"
      },
      "outputs": [
        {
          "data": {
            "text/plain": [
              "Index(['country', 'year', 'uniqueid', 'Has_a_Bank_account', 'Type_of_Location',\n",
              "       'Cell_Phone_Access', 'household_size', 'Respondent_Age',\n",
              "       'gender_of_respondent', 'relationship_with_head', 'marital_status',\n",
              "       'level_of_education', 'Type_of_Job'],\n",
              "      dtype='object')"
            ]
          },
          "execution_count": 22,
          "metadata": {},
          "output_type": "execute_result"
        }
      ],
      "source": [
        "data.columns"
      ]
    },
    {
      "cell_type": "code",
      "execution_count": null,
      "metadata": {
        "colab": {
          "background_save": true,
          "base_uri": "https://localhost:8080/",
          "height": 305
        },
        "id": "HGSwQFmaO2Z9",
        "outputId": "bcbc3282-eb54-42ad-a19c-d4b864debc99"
      },
      "outputs": [
        {
          "name": "stdout",
          "output_type": "stream",
          "text": [
            "Skew: 0.8034033566606451\n",
            "Kurtosis: -0.01822759359603765\n"
          ]
        },
        {
          "data": {
            "image/png": "[encoded data removed]",
            "text/plain": [
              "<Figure size 432x288 with 1 Axes>"
            ]
          },
          "metadata": {},
          "output_type": "display_data"
        }
      ],
      "source": [
        "data['Respondent_Age'].plot(kind='density')\n",
        "print(\"Skew:\" , data['Respondent_Age'].skew())\n",
        "print(\"Kurtosis:\" , data['Respondent_Age'].kurt())"
      ]
    },
    {
      "cell_type": "markdown",
      "metadata": {
        "id": "J8e_8E9zQEVS"
      },
      "source": [
        "- Respondent Age is positively skewed and has Playtkurtic kurtosis of 0.10"
      ]
    },
    {
      "cell_type": "markdown",
      "metadata": {
        "id": "MrQbuMY29Dot"
      },
      "source": [
        "#### Categorical Variables"
      ]
    },
    {
      "cell_type": "code",
      "execution_count": null,
      "metadata": {
        "colab": {
          "background_save": true,
          "base_uri": "https://localhost:8080/",
          "height": 313
        },
        "id": "N5asgZc8ncIL",
        "outputId": "3444a43f-c96f-4dfd-e13c-ede695f84217"
      },
      "outputs": [
        {
          "data": {
            "text/plain": [
              "Text(0, 0.5, 'Individuals')"
            ]
          },
          "execution_count": 21,
          "metadata": {},
          "output_type": "execute_result"
        },
        {
          "data": {
            "image/png": "[encoded data removed]",
            "text/plain": [
              "<Figure size 432x288 with 1 Axes>"
            ]
          },
          "metadata": {},
          "output_type": "display_data"
        }
      ],
      "source": [
        "# Let's explore the distribution of Bank Account count..how many individuals have or do not have bank accounts\n",
        "ax = sns.countplot(data['Has_a_Bank_account'], order = data['Has_a_Bank_account'].value_counts().index)\n",
        "# formatting and labelling axes\n",
        "plt.title('Count of individuals with and without a BankAccount')\n",
        "plt.xlabel('Has a bank account')\n",
        "plt.ylabel('Individuals')"
      ]
    },
    {
      "cell_type": "markdown",
      "metadata": {
        "id": "P3FD0yz4TOcW"
      },
      "source": [
        "Quite a number of respondents lack a bank account"
      ]
    },
    {
      "cell_type": "code",
      "execution_count": null,
      "metadata": {
        "colab": {
          "background_save": true,
          "base_uri": "https://localhost:8080/",
          "height": 350
        },
        "id": "WqgMZy8fLjU5",
        "outputId": "92e70e11-44fb-49e0-e9ef-9579ba7efa16"
      },
      "outputs": [
        {
          "data": {
            "text/plain": [
              "Rural    5516\n",
              "Urban    2824\n",
              "Name: Type_of_Location, dtype: int64"
            ]
          },
          "execution_count": 22,
          "metadata": {},
          "output_type": "execute_result"
        },
        {
          "data": {
            "image/png": "[encoded data removed]",
            "text/plain": [
              "<Figure size 432x288 with 1 Axes>"
            ]
          },
          "metadata": {},
          "output_type": "display_data"
        }
      ],
      "source": [
        "# plot count plot for the type of location\n",
        "ax = sns.countplot(data['Type_of_Location'], order = data['Type_of_Location'].value_counts().index)\n",
        "plt.title(\"Type of Location\")\n",
        "plt.xlabel('Rural or urban')\n",
        "plt.ylabel('Individuals')\n",
        "# frequency table of the same for comparison\n",
        "df['Type_of_Location'].value_counts()"
      ]
    },
    {
      "cell_type": "markdown",
      "metadata": {
        "id": "gfigxRmOTj_-"
      },
      "source": [
        "Many of the respondents in our dataset reside in rural areas"
      ]
    },
    {
      "cell_type": "code",
      "execution_count": null,
      "metadata": {
        "colab": {
          "background_save": true,
          "base_uri": "https://localhost:8080/",
          "height": 350
        },
        "id": "JEh87De3uT7h",
        "outputId": "b0a3764a-45f5-4e47-da8a-543ca1e75f35"
      },
      "outputs": [
        {
          "data": {
            "text/plain": [
              "Female    4801\n",
              "Male      3539\n",
              "Name: gender_of_respondent, dtype: int64"
            ]
          },
          "execution_count": 23,
          "metadata": {},
          "output_type": "execute_result"
        },
        {
          "data": {
            "image/png": "[encoded data removed]",
            "text/plain": [
              "<Figure size 432x288 with 1 Axes>"
            ]
          },
          "metadata": {},
          "output_type": "display_data"
        }
      ],
      "source": [
        "# Let's explore the distribution of Gender of respondents using count\n",
        "ax = sns.countplot(data['gender_of_respondent'], order = data['gender_of_respondent'].value_counts().index)\n",
        "# formatting the plot, labelling axes\n",
        "plt.title(\"Gender Distribution\")\n",
        "plt.xlabel('Gender')\n",
        "plt.ylabel('Individuals Count')\n",
        "# frequency table of the same for comparison\n",
        "df['gender_of_respondent'].value_counts()"
      ]
    },
    {
      "cell_type": "markdown",
      "metadata": {
        "id": "mQ4TZqQ4T0hM"
      },
      "source": [
        "Females count is greater compared to male count"
      ]
    },
    {
      "cell_type": "code",
      "execution_count": null,
      "metadata": {
        "colab": {
          "background_save": true,
          "base_uri": "https://localhost:8080/",
          "height": 403
        },
        "id": "PAT6ID08ul70",
        "outputId": "8abded28-2350-40a4-d7ff-480a83a62878"
      },
      "outputs": [
        {
          "data": {
            "text/plain": [
              "Text(0.5, 1.0, 'Country of Respondent Distribution')"
            ]
          },
          "execution_count": 24,
          "metadata": {},
          "output_type": "execute_result"
        },
        {
          "data": {
            "image/png": "[encoded data removed]",
            "text/plain": [
              "<Figure size 360x360 with 1 Axes>"
            ]
          },
          "metadata": {},
          "output_type": "display_data"
        }
      ],
      "source": [
        "# Let's explore the distribution of country of respondents using count\n",
        "\n",
        "sns.catplot(x=\"country\", kind=\"count\", data=data)\n",
        "plt.title(\"Country of Respondent Distribution\")"
      ]
    },
    {
      "cell_type": "markdown",
      "metadata": {
        "id": "Lo-VD1qLT9h5"
      },
      "source": [
        "Rwanda has the highest number of respondents followed by Kenya with Uganda having less respondents"
      ]
    },
    {
      "cell_type": "code",
      "execution_count": null,
      "metadata": {
        "colab": {
          "background_save": true,
          "base_uri": "https://localhost:8080/"
        },
        "id": "wzHi0Jc1YvJQ",
        "outputId": "df1603bf-afb2-4d27-8039-8c67e7eaadb1"
      },
      "outputs": [
        {
          "data": {
            "text/plain": [
              "Index(['country', 'year', 'uniqueid', 'Has_a_Bank_account', 'Type_of_Location',\n",
              "       'Cell_Phone_Access', 'household_size', 'Respondent_Age',\n",
              "       'gender_of_respondent', 'relationship_with_head', 'marital_status',\n",
              "       'level_of_education', 'Type_of_Job'],\n",
              "      dtype='object')"
            ]
          },
          "execution_count": 25,
          "metadata": {},
          "output_type": "execute_result"
        }
      ],
      "source": [
        "data.columns"
      ]
    },
    {
      "cell_type": "code",
      "execution_count": null,
      "metadata": {
        "colab": {
          "base_uri": "https://localhost:8080/",
          "height": 264
        },
        "id": "fSTn4lDxNMdJ",
        "outputId": "53b5f39c-47d4-4d26-98f6-093af2e050ad"
      },
      "outputs": [
        {
          "data": {
            "image/png": "[encoded data removed]",
            "text/plain": [
              "<Figure size 432x288 with 1 Axes>"
            ]
          },
          "metadata": {},
          "output_type": "display_data"
        }
      ],
      "source": [
        "# plot of the marital status of the respondents, order them in descending order\n",
        "plt.pie(df['marital_status'].value_counts() ,labels=['Married','Single','Widowed','Divorced','Dont know'],autopct = '%1.1f%%', shadow = True, startangle = 140)\n",
        "plt.axis('equal')\n",
        "plt.title('Pie Chart Showing Marital Status of the Respondents')\n",
        "plt.show()"
      ]
    },
    {
      "cell_type": "markdown",
      "metadata": {
        "id": "sxhn1n3ZUTmz"
      },
      "source": [
        "Married individuals participated more in the survey"
      ]
    },
    {
      "cell_type": "code",
      "execution_count": null,
      "metadata": {
        "colab": {
          "base_uri": "https://localhost:8080/",
          "height": 403
        },
        "id": "D781jhL1vUUY",
        "outputId": "8b40b866-a06e-483f-8fa8-8e67ac8d538a"
      },
      "outputs": [
        {
          "data": {
            "text/plain": [
              "Text(0.5, 1.0, 'Cellphone Acess Distribution')"
            ]
          },
          "execution_count": 35,
          "metadata": {},
          "output_type": "execute_result"
        },
        {
          "data": {
            "image/png": "[encoded data removed]",
            "text/plain": [
              "<Figure size 360x360 with 1 Axes>"
            ]
          },
          "metadata": {},
          "output_type": "display_data"
        }
      ],
      "source": [
        "# Let's explore the distribution of cellphone_access using count\n",
        "sns.catplot(x=\"Cell_Phone_Access\", kind=\"count\", data=data)\n",
        "plt.title(\"Cellphone Acess Distribution\")\n"
      ]
    },
    {
      "cell_type": "code",
      "execution_count": null,
      "metadata": {
        "colab": {
          "base_uri": "https://localhost:8080/",
          "height": 313
        },
        "id": "04zfLoPfN32O",
        "outputId": "cf3c9db9-384c-48c2-a8a3-79ac9dd4e1bc"
      },
      "outputs": [
        {
          "data": {
            "text/plain": [
              "Text(0, 0.5, 'Number of respondents')"
            ]
          },
          "execution_count": 60,
          "metadata": {},
          "output_type": "execute_result"
        },
        {
          "data": {
            "image/png": "[encoded data removed]",
            "text/plain": [
              "<Figure size 432x288 with 1 Axes>"
            ]
          },
          "metadata": {},
          "output_type": "display_data"
        }
      ],
      "source": [
        "# plotting a chart for the level of education\n",
        "ax = sns.countplot(data['level_of_education'], order = data['level_of_education'].value_counts().index)\n",
        "# formatting and labelling the chart\n",
        "plt.title(\"Highest level of education \")\n",
        "plt.xlabel(\"Education Level\")\n",
        "plt.ylabel(\"Number of respondents\")\n",
        "plt.xticks(rotation=90)"
      ]
    },
    {
      "cell_type": "markdown",
      "metadata": {
        "id": "ixksd_njU1Jd"
      },
      "source": [
        "Primary education leads when we count the highest level of education from individuals in the dataset while vocational/Specialised training comes last"
      ]
    },
    {
      "cell_type": "code",
      "execution_count": null,
      "metadata": {
        "colab": {
          "base_uri": "https://localhost:8080/",
          "height": 483
        },
        "id": "QwXfMXtFOTSE",
        "outputId": "5862863b-d576-4cc9-eddc-82a5245c42fe"
      },
      "outputs": [
        {
          "data": {
            "text/plain": [
              "(array([0, 1, 2, 3, 4, 5, 6, 7, 8, 9]),\n",
              " <a list of 10 Text major ticklabel objects>)"
            ]
          },
          "execution_count": 37,
          "metadata": {},
          "output_type": "execute_result"
        },
        {
          "data": {
            "image/png": "[encoded data removed]",
            "text/plain": [
              "<Figure size 432x288 with 1 Axes>"
            ]
          },
          "metadata": {},
          "output_type": "display_data"
        }
      ],
      "source": [
        "# count plot for the type of job\n",
        "ax = sns.countplot(data['Type_of_Job'], order = data['Type_of_Job'].value_counts().index)\n",
        "# formatting and labelling the chart \n",
        "plt.title(\"Type of job Distribution\")\n",
        "plt.xlabel(\"Type of job\")\n",
        "plt.ylabel(\"Individuals\")\n",
        "plt.xticks(rotation=90)"
      ]
    },
    {
      "cell_type": "markdown",
      "metadata": {
        "id": "DLU2uWGxVPr9"
      },
      "source": [
        "Mostly, Individuals in our dataset do Farming and fishing as their job"
      ]
    },
    {
      "cell_type": "markdown",
      "metadata": {
        "id": "fzgpoaroO2p0"
      },
      "source": [
        "### Measures of central tendency"
      ]
    },
    {
      "cell_type": "code",
      "execution_count": null,
      "metadata": {
        "colab": {
          "base_uri": "https://localhost:8080/"
        },
        "id": "o-wRFjK0OUK3",
        "outputId": "26547b3b-3e8f-49a4-84d5-d5b91a0dd280"
      },
      "outputs": [
        {
          "name": "stdout",
          "output_type": "stream",
          "text": [
            "38.804299702000854\n",
            "35.0\n",
            "0    30.0\n",
            "dtype: float64\n"
          ]
        }
      ],
      "source": [
        "print(data['Respondent_Age'].mean())\n",
        "print(data['Respondent_Age'].median())\n",
        "print(data['Respondent_Age'].mode())"
      ]
    },
    {
      "cell_type": "code",
      "execution_count": null,
      "metadata": {
        "colab": {
          "base_uri": "https://localhost:8080/"
        },
        "id": "RPQr6g7WPQWJ",
        "outputId": "68c456ff-9f12-4ca3-b858-b2195c8b4a6a"
      },
      "outputs": [
        {
          "name": "stdout",
          "output_type": "stream",
          "text": [
            "3.6818181818181817\n",
            "3.0\n",
            "0    2.0\n",
            "dtype: float64\n"
          ]
        }
      ],
      "source": [
        "print(data['household_size'].mean())\n",
        "print(data['household_size'].median())\n",
        "print(data['household_size'].mode())"
      ]
    },
    {
      "cell_type": "markdown",
      "metadata": {
        "id": "b6cpaQx5PXbK"
      },
      "source": [
        "# BiVariate Analysis"
      ]
    },
    {
      "cell_type": "code",
      "execution_count": null,
      "metadata": {
        "colab": {
          "base_uri": "https://localhost:8080/"
        },
        "id": "Oqgub9asQGj8",
        "outputId": "eb2f4b9c-b7f5-440e-970b-bc2a0772df81"
      },
      "outputs": [
        {
          "data": {
            "text/plain": [
              "country                    object\n",
              "year                        int64\n",
              "uniqueid                   object\n",
              "Has_a_Bank_account         object\n",
              "Type_of_Location           object\n",
              "Cell_Phone_Access          object\n",
              "household_size            float64\n",
              "Respondent_Age            float64\n",
              "gender_of_respondent       object\n",
              "relationship_with_head     object\n",
              "marital_status             object\n",
              "level_of_education         object\n",
              "Type_of_Job                object\n",
              "dtype: object"
            ]
          },
          "execution_count": 41,
          "metadata": {},
          "output_type": "execute_result"
        }
      ],
      "source": [
        "data.dtypes"
      ]
    },
    {
      "cell_type": "code",
      "execution_count": null,
      "metadata": {
        "colab": {
          "base_uri": "https://localhost:8080/",
          "height": 270
        },
        "id": "a5LubAS8PPCj",
        "outputId": "14837dd8-ddfc-41da-a6a6-22ee5d68e5af"
      },
      "outputs": [
        {
          "data": {
            "text/html": [
              "\n",
              "  <div id=\"df-143c2717-8c35-4a5b-9867-ea4459f6939c\">\n",
              "    <div class=\"colab-df-container\">\n",
              "      <div>\n",
              "<style scoped>\n",
              "    .dataframe tbody tr th:only-of-type {\n",
              "        vertical-align: middle;\n",
              "    }\n",
              "\n",
              "    .dataframe tbody tr th {\n",
              "        vertical-align: top;\n",
              "    }\n",
              "\n",
              "    .dataframe thead th {\n",
              "        text-align: right;\n",
              "    }\n",
              "</style>\n",
              "<table border=\"1\" class=\"dataframe\">\n",
              "  <thead>\n",
              "    <tr style=\"text-align: right;\">\n",
              "      <th></th>\n",
              "      <th>country</th>\n",
              "      <th>year</th>\n",
              "      <th>uniqueid</th>\n",
              "      <th>Has_a_Bank_account</th>\n",
              "      <th>Type_of_Location</th>\n",
              "      <th>Cell_Phone_Access</th>\n",
              "      <th>household_size</th>\n",
              "      <th>Respondent_Age</th>\n",
              "      <th>gender_of_respondent</th>\n",
              "      <th>relationship_with_head</th>\n",
              "      <th>marital_status</th>\n",
              "      <th>level_of_education</th>\n",
              "      <th>Type_of_Job</th>\n",
              "    </tr>\n",
              "  </thead>\n",
              "  <tbody>\n",
              "    <tr>\n",
              "      <th>0</th>\n",
              "      <td>0</td>\n",
              "      <td>2018</td>\n",
              "      <td>uniqueid_1</td>\n",
              "      <td>1</td>\n",
              "      <td>0</td>\n",
              "      <td>1</td>\n",
              "      <td>3.0</td>\n",
              "      <td>24.0</td>\n",
              "      <td>0</td>\n",
              "      <td>5</td>\n",
              "      <td>2</td>\n",
              "      <td>4</td>\n",
              "      <td>9</td>\n",
              "    </tr>\n",
              "    <tr>\n",
              "      <th>1</th>\n",
              "      <td>0</td>\n",
              "      <td>2018</td>\n",
              "      <td>uniqueid_2</td>\n",
              "      <td>0</td>\n",
              "      <td>0</td>\n",
              "      <td>0</td>\n",
              "      <td>5.0</td>\n",
              "      <td>70.0</td>\n",
              "      <td>0</td>\n",
              "      <td>1</td>\n",
              "      <td>4</td>\n",
              "      <td>1</td>\n",
              "      <td>4</td>\n",
              "    </tr>\n",
              "    <tr>\n",
              "      <th>2</th>\n",
              "      <td>0</td>\n",
              "      <td>2018</td>\n",
              "      <td>uniqueid_3</td>\n",
              "      <td>1</td>\n",
              "      <td>1</td>\n",
              "      <td>1</td>\n",
              "      <td>5.0</td>\n",
              "      <td>26.0</td>\n",
              "      <td>1</td>\n",
              "      <td>3</td>\n",
              "      <td>3</td>\n",
              "      <td>6</td>\n",
              "      <td>9</td>\n",
              "    </tr>\n",
              "    <tr>\n",
              "      <th>3</th>\n",
              "      <td>0</td>\n",
              "      <td>2018</td>\n",
              "      <td>uniqueid_4</td>\n",
              "      <td>0</td>\n",
              "      <td>0</td>\n",
              "      <td>1</td>\n",
              "      <td>5.0</td>\n",
              "      <td>34.0</td>\n",
              "      <td>0</td>\n",
              "      <td>1</td>\n",
              "      <td>2</td>\n",
              "      <td>3</td>\n",
              "      <td>3</td>\n",
              "    </tr>\n",
              "    <tr>\n",
              "      <th>4</th>\n",
              "      <td>0</td>\n",
              "      <td>2018</td>\n",
              "      <td>uniqueid_5</td>\n",
              "      <td>0</td>\n",
              "      <td>1</td>\n",
              "      <td>0</td>\n",
              "      <td>8.0</td>\n",
              "      <td>26.0</td>\n",
              "      <td>1</td>\n",
              "      <td>0</td>\n",
              "      <td>3</td>\n",
              "      <td>3</td>\n",
              "      <td>5</td>\n",
              "    </tr>\n",
              "  </tbody>\n",
              "</table>\n",
              "</div>\n",
              "      <button class=\"colab-df-convert\" onclick=\"convertToInteractive('df-143c2717-8c35-4a5b-9867-ea4459f6939c')\"\n",
              "              title=\"Convert this dataframe to an interactive table.\"\n",
              "              style=\"display:none;\">\n",
              "        \n",
              "  <svg xmlns=\"http://www.w3.org/2000/svg\" height=\"24px\"viewBox=\"0 0 24 24\"\n",
              "       width=\"24px\">\n",
              "    <path d=\"M0 0h24v24H0V0z\" fill=\"none\"/>\n",
              "    <path d=\"M18.56 5.44l.94 2.06.94-2.06 2.06-.94-2.06-.94-.94-2.06-.94 2.06-2.06.94zm-11 1L8.5 8.5l.94-2.06 2.06-.94-2.06-.94L8.5 2.5l-.94 2.06-2.06.94zm10 10l.94 2.06.94-2.06 2.06-.94-2.06-.94-.94-2.06-.94 2.06-2.06.94z\"/><path d=\"M17.41 7.96l-1.37-1.37c-.4-.4-.92-.59-1.43-.59-.52 0-1.04.2-1.43.59L10.3 9.45l-7.72 7.72c-.78.78-.78 2.05 0 2.83L4 21.41c.39.39.9.59 1.41.59.51 0 1.02-.2 1.41-.59l7.78-7.78 2.81-2.81c.8-.78.8-2.07 0-2.86zM5.41 20L4 18.59l7.72-7.72 1.47 1.35L5.41 20z\"/>\n",
              "  </svg>\n",
              "      </button>\n",
              "      \n",
              "  <style>\n",
              "    .colab-df-container {\n",
              "      display:flex;\n",
              "      flex-wrap:wrap;\n",
              "      gap: 12px;\n",
              "    }\n",
              "\n",
              "    .colab-df-convert {\n",
              "      background-color: #E8F0FE;\n",
              "      border: none;\n",
              "      border-radius: 50%;\n",
              "      cursor: pointer;\n",
              "      display: none;\n",
              "      fill: #1967D2;\n",
              "      height: 32px;\n",
              "      padding: 0 0 0 0;\n",
              "      width: 32px;\n",
              "    }\n",
              "\n",
              "    .colab-df-convert:hover {\n",
              "      background-color: #E2EBFA;\n",
              "      box-shadow: 0px 1px 2px rgba(60, 64, 67, 0.3), 0px 1px 3px 1px rgba(60, 64, 67, 0.15);\n",
              "      fill: #174EA6;\n",
              "    }\n",
              "\n",
              "    [theme=dark] .colab-df-convert {\n",
              "      background-color: #3B4455;\n",
              "      fill: #D2E3FC;\n",
              "    }\n",
              "\n",
              "    [theme=dark] .colab-df-convert:hover {\n",
              "      background-color: #434B5C;\n",
              "      box-shadow: 0px 1px 3px 1px rgba(0, 0, 0, 0.15);\n",
              "      filter: drop-shadow(0px 1px 2px rgba(0, 0, 0, 0.3));\n",
              "      fill: #FFFFFF;\n",
              "    }\n",
              "  </style>\n",
              "\n",
              "      <script>\n",
              "        const buttonEl =\n",
              "          document.querySelector('#df-143c2717-8c35-4a5b-9867-ea4459f6939c button.colab-df-convert');\n",
              "        buttonEl.style.display =\n",
              "          google.colab.kernel.accessAllowed ? 'block' : 'none';\n",
              "\n",
              "        async function convertToInteractive(key) {\n",
              "          const element = document.querySelector('#df-143c2717-8c35-4a5b-9867-ea4459f6939c');\n",
              "          const dataTable =\n",
              "            await google.colab.kernel.invokeFunction('convertToInteractive',\n",
              "                                                     [key], {});\n",
              "          if (!dataTable) return;\n",
              "\n",
              "          const docLinkHtml = 'Like what you see? Visit the ' +\n",
              "            '<a target=\"_blank\" href=https://colab.research.google.com/notebooks/data_table.ipynb>data table notebook</a>'\n",
              "            + ' to learn more about interactive tables.';\n",
              "          element.innerHTML = '';\n",
              "          dataTable['output_type'] = 'display_data';\n",
              "          await google.colab.output.renderOutput(dataTable, element);\n",
              "          const docLink = document.createElement('div');\n",
              "          docLink.innerHTML = docLinkHtml;\n",
              "          element.appendChild(docLink);\n",
              "        }\n",
              "      </script>\n",
              "    </div>\n",
              "  </div>\n",
              "  "
            ],
            "text/plain": [
              "   country  year    uniqueid  Has_a_Bank_account  Type_of_Location  \\\n",
              "0        0  2018  uniqueid_1                   1                 0   \n",
              "1        0  2018  uniqueid_2                   0                 0   \n",
              "2        0  2018  uniqueid_3                   1                 1   \n",
              "3        0  2018  uniqueid_4                   0                 0   \n",
              "4        0  2018  uniqueid_5                   0                 1   \n",
              "\n",
              "   Cell_Phone_Access  household_size  Respondent_Age  gender_of_respondent  \\\n",
              "0                  1             3.0            24.0                     0   \n",
              "1                  0             5.0            70.0                     0   \n",
              "2                  1             5.0            26.0                     1   \n",
              "3                  1             5.0            34.0                     0   \n",
              "4                  0             8.0            26.0                     1   \n",
              "\n",
              "   relationship_with_head  marital_status  level_of_education  Type_of_Job  \n",
              "0                       5               2                   4            9  \n",
              "1                       1               4                   1            4  \n",
              "2                       3               3                   6            9  \n",
              "3                       1               2                   3            3  \n",
              "4                       0               3                   3            5  "
            ]
          },
          "execution_count": 42,
          "metadata": {},
          "output_type": "execute_result"
        }
      ],
      "source": [
        "# We first convert the columns to categorical values for label encoding to easily find correlation of all columns\n",
        "data[\"country\"] = data[\"country\"].astype('category').cat.codes\n",
        "data[\"Has_a_Bank_account\"] = data[\"Has_a_Bank_account\"].astype('category').cat.codes\n",
        "data[\"Type_of_Location\"] = data[\"Type_of_Location\"].astype('category').cat.codes\n",
        "data[\"Cell_Phone_Access\"] = data[\"Cell_Phone_Access\"].astype('category').cat.codes\n",
        "data[\"gender_of_respondent\"] = data[\"gender_of_respondent\"].astype('category').cat.codes\n",
        "data[\"relationship_with_head\"] = data[\"relationship_with_head\"].astype('category').cat.codes\n",
        "data['marital_status'] = data['marital_status'].astype('category').cat.codes\n",
        "data[\"level_of_education\"] = data[\"level_of_education\"].astype('category').cat.codes\n",
        "data[\"Type_of_Job\"] = data[\"Type_of_Job\"].astype('category').cat.codes\n",
        "data.head()"
      ]
    },
    {
      "cell_type": "code",
      "execution_count": null,
      "metadata": {
        "colab": {
          "base_uri": "https://localhost:8080/",
          "height": 489
        },
        "id": "bVK6njLcIIPR",
        "outputId": "513b6eb0-f66c-437b-90d5-ea87560a1c60"
      },
      "outputs": [
        {
          "data": {
            "text/html": [
              "\n",
              "  <div id=\"df-268ed6cb-a510-46c0-b12c-4dc8d6c203d1\">\n",
              "    <div class=\"colab-df-container\">\n",
              "      <div>\n",
              "<style scoped>\n",
              "    .dataframe tbody tr th:only-of-type {\n",
              "        vertical-align: middle;\n",
              "    }\n",
              "\n",
              "    .dataframe tbody tr th {\n",
              "        vertical-align: top;\n",
              "    }\n",
              "\n",
              "    .dataframe thead th {\n",
              "        text-align: right;\n",
              "    }\n",
              "</style>\n",
              "<table border=\"1\" class=\"dataframe\">\n",
              "  <thead>\n",
              "    <tr style=\"text-align: right;\">\n",
              "      <th></th>\n",
              "      <th>country</th>\n",
              "      <th>year</th>\n",
              "      <th>Has_a_Bank_account</th>\n",
              "      <th>Type_of_Location</th>\n",
              "      <th>Cell_Phone_Access</th>\n",
              "      <th>household_size</th>\n",
              "      <th>Respondent_Age</th>\n",
              "      <th>gender_of_respondent</th>\n",
              "      <th>relationship_with_head</th>\n",
              "      <th>marital_status</th>\n",
              "      <th>level_of_education</th>\n",
              "      <th>Type_of_Job</th>\n",
              "    </tr>\n",
              "  </thead>\n",
              "  <tbody>\n",
              "    <tr>\n",
              "      <th>country</th>\n",
              "      <td>1.000000</td>\n",
              "      <td>-0.092625</td>\n",
              "      <td>-0.163207</td>\n",
              "      <td>0.148296</td>\n",
              "      <td>-0.149253</td>\n",
              "      <td>-0.158963</td>\n",
              "      <td>-0.058726</td>\n",
              "      <td>-0.028989</td>\n",
              "      <td>0.129311</td>\n",
              "      <td>0.006876</td>\n",
              "      <td>-0.049896</td>\n",
              "      <td>0.377380</td>\n",
              "    </tr>\n",
              "    <tr>\n",
              "      <th>year</th>\n",
              "      <td>-0.092625</td>\n",
              "      <td>1.000000</td>\n",
              "      <td>0.108628</td>\n",
              "      <td>0.203674</td>\n",
              "      <td>-0.060470</td>\n",
              "      <td>-0.049344</td>\n",
              "      <td>-0.019570</td>\n",
              "      <td>0.001485</td>\n",
              "      <td>0.002345</td>\n",
              "      <td>-0.023259</td>\n",
              "      <td>0.169296</td>\n",
              "      <td>0.250768</td>\n",
              "    </tr>\n",
              "    <tr>\n",
              "      <th>Has_a_Bank_account</th>\n",
              "      <td>-0.163207</td>\n",
              "      <td>0.108628</td>\n",
              "      <td>1.000000</td>\n",
              "      <td>0.088840</td>\n",
              "      <td>0.212680</td>\n",
              "      <td>-0.018243</td>\n",
              "      <td>0.020373</td>\n",
              "      <td>0.114994</td>\n",
              "      <td>-0.071091</td>\n",
              "      <td>-0.038073</td>\n",
              "      <td>0.319418</td>\n",
              "      <td>-0.065555</td>\n",
              "    </tr>\n",
              "    <tr>\n",
              "      <th>Type_of_Location</th>\n",
              "      <td>0.148296</td>\n",
              "      <td>0.203674</td>\n",
              "      <td>0.088840</td>\n",
              "      <td>1.000000</td>\n",
              "      <td>-0.078875</td>\n",
              "      <td>-0.272319</td>\n",
              "      <td>-0.047336</td>\n",
              "      <td>0.010669</td>\n",
              "      <td>0.016298</td>\n",
              "      <td>0.077646</td>\n",
              "      <td>0.125128</td>\n",
              "      <td>0.364500</td>\n",
              "    </tr>\n",
              "    <tr>\n",
              "      <th>Cell_Phone_Access</th>\n",
              "      <td>-0.149253</td>\n",
              "      <td>-0.060470</td>\n",
              "      <td>0.212680</td>\n",
              "      <td>-0.078875</td>\n",
              "      <td>1.000000</td>\n",
              "      <td>0.100085</td>\n",
              "      <td>-0.103424</td>\n",
              "      <td>0.103003</td>\n",
              "      <td>-0.049033</td>\n",
              "      <td>-0.092928</td>\n",
              "      <td>0.248980</td>\n",
              "      <td>-0.147075</td>\n",
              "    </tr>\n",
              "    <tr>\n",
              "      <th>household_size</th>\n",
              "      <td>-0.158963</td>\n",
              "      <td>-0.049344</td>\n",
              "      <td>-0.018243</td>\n",
              "      <td>-0.272319</td>\n",
              "      <td>0.100085</td>\n",
              "      <td>1.000000</td>\n",
              "      <td>-0.119709</td>\n",
              "      <td>0.012909</td>\n",
              "      <td>0.088386</td>\n",
              "      <td>-0.109401</td>\n",
              "      <td>-0.006666</td>\n",
              "      <td>-0.180743</td>\n",
              "    </tr>\n",
              "    <tr>\n",
              "      <th>Respondent_Age</th>\n",
              "      <td>-0.058726</td>\n",
              "      <td>-0.019570</td>\n",
              "      <td>0.020373</td>\n",
              "      <td>-0.047336</td>\n",
              "      <td>-0.103424</td>\n",
              "      <td>-0.119709</td>\n",
              "      <td>1.000000</td>\n",
              "      <td>0.012614</td>\n",
              "      <td>-0.151236</td>\n",
              "      <td>0.220216</td>\n",
              "      <td>-0.351177</td>\n",
              "      <td>-0.102911</td>\n",
              "    </tr>\n",
              "    <tr>\n",
              "      <th>gender_of_respondent</th>\n",
              "      <td>-0.028989</td>\n",
              "      <td>0.001485</td>\n",
              "      <td>0.114994</td>\n",
              "      <td>0.010669</td>\n",
              "      <td>0.103003</td>\n",
              "      <td>0.012909</td>\n",
              "      <td>0.012614</td>\n",
              "      <td>1.000000</td>\n",
              "      <td>-0.467862</td>\n",
              "      <td>-0.100356</td>\n",
              "      <td>0.117455</td>\n",
              "      <td>-0.031229</td>\n",
              "    </tr>\n",
              "    <tr>\n",
              "      <th>relationship_with_head</th>\n",
              "      <td>0.129311</td>\n",
              "      <td>0.002345</td>\n",
              "      <td>-0.071091</td>\n",
              "      <td>0.016298</td>\n",
              "      <td>-0.049033</td>\n",
              "      <td>0.088386</td>\n",
              "      <td>-0.151236</td>\n",
              "      <td>-0.467862</td>\n",
              "      <td>1.000000</td>\n",
              "      <td>-0.139801</td>\n",
              "      <td>-0.018053</td>\n",
              "      <td>0.040724</td>\n",
              "    </tr>\n",
              "    <tr>\n",
              "      <th>marital_status</th>\n",
              "      <td>0.006876</td>\n",
              "      <td>-0.023259</td>\n",
              "      <td>-0.038073</td>\n",
              "      <td>0.077646</td>\n",
              "      <td>-0.092928</td>\n",
              "      <td>-0.109401</td>\n",
              "      <td>0.220216</td>\n",
              "      <td>-0.100356</td>\n",
              "      <td>-0.139801</td>\n",
              "      <td>1.000000</td>\n",
              "      <td>-0.115989</td>\n",
              "      <td>0.057607</td>\n",
              "    </tr>\n",
              "    <tr>\n",
              "      <th>level_of_education</th>\n",
              "      <td>-0.049896</td>\n",
              "      <td>0.169296</td>\n",
              "      <td>0.319418</td>\n",
              "      <td>0.125128</td>\n",
              "      <td>0.248980</td>\n",
              "      <td>-0.006666</td>\n",
              "      <td>-0.351177</td>\n",
              "      <td>0.117455</td>\n",
              "      <td>-0.018053</td>\n",
              "      <td>-0.115989</td>\n",
              "      <td>1.000000</td>\n",
              "      <td>0.051277</td>\n",
              "    </tr>\n",
              "    <tr>\n",
              "      <th>Type_of_Job</th>\n",
              "      <td>0.377380</td>\n",
              "      <td>0.250768</td>\n",
              "      <td>-0.065555</td>\n",
              "      <td>0.364500</td>\n",
              "      <td>-0.147075</td>\n",
              "      <td>-0.180743</td>\n",
              "      <td>-0.102911</td>\n",
              "      <td>-0.031229</td>\n",
              "      <td>0.040724</td>\n",
              "      <td>0.057607</td>\n",
              "      <td>0.051277</td>\n",
              "      <td>1.000000</td>\n",
              "    </tr>\n",
              "  </tbody>\n",
              "</table>\n",
              "</div>\n",
              "      <button class=\"colab-df-convert\" onclick=\"convertToInteractive('df-268ed6cb-a510-46c0-b12c-4dc8d6c203d1')\"\n",
              "              title=\"Convert this dataframe to an interactive table.\"\n",
              "              style=\"display:none;\">\n",
              "        \n",
              "  <svg xmlns=\"http://www.w3.org/2000/svg\" height=\"24px\"viewBox=\"0 0 24 24\"\n",
              "       width=\"24px\">\n",
              "    <path d=\"M0 0h24v24H0V0z\" fill=\"none\"/>\n",
              "    <path d=\"M18.56 5.44l.94 2.06.94-2.06 2.06-.94-2.06-.94-.94-2.06-.94 2.06-2.06.94zm-11 1L8.5 8.5l.94-2.06 2.06-.94-2.06-.94L8.5 2.5l-.94 2.06-2.06.94zm10 10l.94 2.06.94-2.06 2.06-.94-2.06-.94-.94-2.06-.94 2.06-2.06.94z\"/><path d=\"M17.41 7.96l-1.37-1.37c-.4-.4-.92-.59-1.43-.59-.52 0-1.04.2-1.43.59L10.3 9.45l-7.72 7.72c-.78.78-.78 2.05 0 2.83L4 21.41c.39.39.9.59 1.41.59.51 0 1.02-.2 1.41-.59l7.78-7.78 2.81-2.81c.8-.78.8-2.07 0-2.86zM5.41 20L4 18.59l7.72-7.72 1.47 1.35L5.41 20z\"/>\n",
              "  </svg>\n",
              "      </button>\n",
              "      \n",
              "  <style>\n",
              "    .colab-df-container {\n",
              "      display:flex;\n",
              "      flex-wrap:wrap;\n",
              "      gap: 12px;\n",
              "    }\n",
              "\n",
              "    .colab-df-convert {\n",
              "      background-color: #E8F0FE;\n",
              "      border: none;\n",
              "      border-radius: 50%;\n",
              "      cursor: pointer;\n",
              "      display: none;\n",
              "      fill: #1967D2;\n",
              "      height: 32px;\n",
              "      padding: 0 0 0 0;\n",
              "      width: 32px;\n",
              "    }\n",
              "\n",
              "    .colab-df-convert:hover {\n",
              "      background-color: #E2EBFA;\n",
              "      box-shadow: 0px 1px 2px rgba(60, 64, 67, 0.3), 0px 1px 3px 1px rgba(60, 64, 67, 0.15);\n",
              "      fill: #174EA6;\n",
              "    }\n",
              "\n",
              "    [theme=dark] .colab-df-convert {\n",
              "      background-color: #3B4455;\n",
              "      fill: #D2E3FC;\n",
              "    }\n",
              "\n",
              "    [theme=dark] .colab-df-convert:hover {\n",
              "      background-color: #434B5C;\n",
              "      box-shadow: 0px 1px 3px 1px rgba(0, 0, 0, 0.15);\n",
              "      filter: drop-shadow(0px 1px 2px rgba(0, 0, 0, 0.3));\n",
              "      fill: #FFFFFF;\n",
              "    }\n",
              "  </style>\n",
              "\n",
              "      <script>\n",
              "        const buttonEl =\n",
              "          document.querySelector('#df-268ed6cb-a510-46c0-b12c-4dc8d6c203d1 button.colab-df-convert');\n",
              "        buttonEl.style.display =\n",
              "          google.colab.kernel.accessAllowed ? 'block' : 'none';\n",
              "\n",
              "        async function convertToInteractive(key) {\n",
              "          const element = document.querySelector('#df-268ed6cb-a510-46c0-b12c-4dc8d6c203d1');\n",
              "          const dataTable =\n",
              "            await google.colab.kernel.invokeFunction('convertToInteractive',\n",
              "                                                     [key], {});\n",
              "          if (!dataTable) return;\n",
              "\n",
              "          const docLinkHtml = 'Like what you see? Visit the ' +\n",
              "            '<a target=\"_blank\" href=https://colab.research.google.com/notebooks/data_table.ipynb>data table notebook</a>'\n",
              "            + ' to learn more about interactive tables.';\n",
              "          element.innerHTML = '';\n",
              "          dataTable['output_type'] = 'display_data';\n",
              "          await google.colab.output.renderOutput(dataTable, element);\n",
              "          const docLink = document.createElement('div');\n",
              "          docLink.innerHTML = docLinkHtml;\n",
              "          element.appendChild(docLink);\n",
              "        }\n",
              "      </script>\n",
              "    </div>\n",
              "  </div>\n",
              "  "
            ],
            "text/plain": [
              "                         country      year  Has_a_Bank_account  \\\n",
              "country                 1.000000 -0.092625           -0.163207   \n",
              "year                   -0.092625  1.000000            0.108628   \n",
              "Has_a_Bank_account     -0.163207  0.108628            1.000000   \n",
              "Type_of_Location        0.148296  0.203674            0.088840   \n",
              "Cell_Phone_Access      -0.149253 -0.060470            0.212680   \n",
              "household_size         -0.158963 -0.049344           -0.018243   \n",
              "Respondent_Age         -0.058726 -0.019570            0.020373   \n",
              "gender_of_respondent   -0.028989  0.001485            0.114994   \n",
              "relationship_with_head  0.129311  0.002345           -0.071091   \n",
              "marital_status          0.006876 -0.023259           -0.038073   \n",
              "level_of_education     -0.049896  0.169296            0.319418   \n",
              "Type_of_Job             0.377380  0.250768           -0.065555   \n",
              "\n",
              "                        Type_of_Location  Cell_Phone_Access  household_size  \\\n",
              "country                         0.148296          -0.149253       -0.158963   \n",
              "year                            0.203674          -0.060470       -0.049344   \n",
              "Has_a_Bank_account              0.088840           0.212680       -0.018243   \n",
              "Type_of_Location                1.000000          -0.078875       -0.272319   \n",
              "Cell_Phone_Access              -0.078875           1.000000        0.100085   \n",
              "household_size                 -0.272319           0.100085        1.000000   \n",
              "Respondent_Age                 -0.047336          -0.103424       -0.119709   \n",
              "gender_of_respondent            0.010669           0.103003        0.012909   \n",
              "relationship_with_head          0.016298          -0.049033        0.088386   \n",
              "marital_status                  0.077646          -0.092928       -0.109401   \n",
              "level_of_education              0.125128           0.248980       -0.006666   \n",
              "Type_of_Job                     0.364500          -0.147075       -0.180743   \n",
              "\n",
              "                        Respondent_Age  gender_of_respondent  \\\n",
              "country                      -0.058726             -0.028989   \n",
              "year                         -0.019570              0.001485   \n",
              "Has_a_Bank_account            0.020373              0.114994   \n",
              "Type_of_Location             -0.047336              0.010669   \n",
              "Cell_Phone_Access            -0.103424              0.103003   \n",
              "household_size               -0.119709              0.012909   \n",
              "Respondent_Age                1.000000              0.012614   \n",
              "gender_of_respondent          0.012614              1.000000   \n",
              "relationship_with_head       -0.151236             -0.467862   \n",
              "marital_status                0.220216             -0.100356   \n",
              "level_of_education           -0.351177              0.117455   \n",
              "Type_of_Job                  -0.102911             -0.031229   \n",
              "\n",
              "                        relationship_with_head  marital_status  \\\n",
              "country                               0.129311        0.006876   \n",
              "year                                  0.002345       -0.023259   \n",
              "Has_a_Bank_account                   -0.071091       -0.038073   \n",
              "Type_of_Location                      0.016298        0.077646   \n",
              "Cell_Phone_Access                    -0.049033       -0.092928   \n",
              "household_size                        0.088386       -0.109401   \n",
              "Respondent_Age                       -0.151236        0.220216   \n",
              "gender_of_respondent                 -0.467862       -0.100356   \n",
              "relationship_with_head                1.000000       -0.139801   \n",
              "marital_status                       -0.139801        1.000000   \n",
              "level_of_education                   -0.018053       -0.115989   \n",
              "Type_of_Job                           0.040724        0.057607   \n",
              "\n",
              "                        level_of_education  Type_of_Job  \n",
              "country                          -0.049896     0.377380  \n",
              "year                              0.169296     0.250768  \n",
              "Has_a_Bank_account                0.319418    -0.065555  \n",
              "Type_of_Location                  0.125128     0.364500  \n",
              "Cell_Phone_Access                 0.248980    -0.147075  \n",
              "household_size                   -0.006666    -0.180743  \n",
              "Respondent_Age                   -0.351177    -0.102911  \n",
              "gender_of_respondent              0.117455    -0.031229  \n",
              "relationship_with_head           -0.018053     0.040724  \n",
              "marital_status                   -0.115989     0.057607  \n",
              "level_of_education                1.000000     0.051277  \n",
              "Type_of_Job                       0.051277     1.000000  "
            ]
          },
          "execution_count": 43,
          "metadata": {},
          "output_type": "execute_result"
        }
      ],
      "source": [
        "# Correlation\n",
        "correlation = data.corr()\n",
        "correlation"
      ]
    },
    {
      "cell_type": "code",
      "execution_count": null,
      "metadata": {
        "colab": {
          "base_uri": "https://localhost:8080/",
          "height": 392
        },
        "id": "sZcPtzj_W2l1",
        "outputId": "78fb3c44-b175-40fa-f4e6-010b36cf2ebd"
      },
      "outputs": [
        {
          "data": {
            "text/plain": [
              "<matplotlib.axes._subplots.AxesSubplot at 0x7f3bd4853950>"
            ]
          },
          "execution_count": 44,
          "metadata": {},
          "output_type": "execute_result"
        },
        {
          "data": {
            "image/png": "[encoded data removed]",
            "text/plain": [
              "<Figure size 432x288 with 2 Axes>"
            ]
          },
          "metadata": {},
          "output_type": "display_data"
        }
      ],
      "source": [
        "# Correlation heatmap\n",
        "sns.heatmap(correlation, xticklabels=correlation.columns, yticklabels=correlation.columns, annot=True)"
      ]
    },
    {
      "cell_type": "markdown",
      "metadata": {
        "id": "c-RIlEj6WaMZ"
      },
      "source": [
        "### Categorical Vs Categorical"
      ]
    },
    {
      "cell_type": "code",
      "execution_count": null,
      "metadata": {
        "colab": {
          "base_uri": "https://localhost:8080/",
          "height": 427
        },
        "id": "vDeE7OZMXOaL",
        "outputId": "7dfc57c3-7f32-4060-bdf7-a58b7b525574"
      },
      "outputs": [
        {
          "data": {
            "text/plain": [
              "(array([0, 1, 2]), <a list of 3 Text major ticklabel objects>)"
            ]
          },
          "execution_count": 67,
          "metadata": {},
          "output_type": "execute_result"
        },
        {
          "data": {
            "image/png": "[encoded data removed]",
            "text/plain": [
              "<Figure size 432x432 with 1 Axes>"
            ]
          },
          "metadata": {},
          "output_type": "display_data"
        }
      ],
      "source": [
        "# Crosstab dataframe\n",
        "gender = pd.crosstab(index=data['gender_of_respondent'], columns=data['Has_a_Bank_account'])\n",
        "\n",
        "# plot of the gender to bank account possession\n",
        "gender.plot(kind=\"bar\", figsize=(6,6))\n",
        "\n",
        "# labelling chart\n",
        "plt.title(\"Gender vs Bank account possession\")\n",
        "plt.ylabel(\"Distribution\")"
      ]
    },
    {
      "cell_type": "markdown",
      "metadata": {
        "id": "gkXgu085X5gB"
      },
      "source": [
        "-  The number of males in our dataset are few but are most likely to own a bank account compared to females."
      ]
    },
    {
      "cell_type": "code",
      "execution_count": null,
      "metadata": {
        "colab": {
          "base_uri": "https://localhost:8080/",
          "height": 296
        },
        "id": "3su7KZXlYars",
        "outputId": "8b90302c-406f-4c9a-de12-d965d6b84357"
      },
      "outputs": [
        {
          "data": {
            "image/png": "[encoded data removed]",
            "text/plain": [
              "<Figure size 432x288 with 1 Axes>"
            ]
          },
          "metadata": {},
          "output_type": "display_data"
        }
      ],
      "source": [
        "#People from which kind of jobs are most likely to own a bank account\n",
        "CellPhone = data.groupby('Has_a_Bank_account')['Cell_Phone_Access'].value_counts(normalize=True).unstack()\n",
        "CellPhone.plot(kind='bar', stacked='True')\n",
        "\n",
        "# labeling our y axis\n",
        "plt.ylabel(\"Frequency\")\n",
        "\n",
        "# Creating a key/legend for our chart\n",
        "plt.legend(loc='center left',bbox_to_anchor=(1.0, 0.5));\n",
        "\n",
        "# Adding a title\n",
        "plt.title(\"Cell Phone Access vs Bank Account ownership\")\n",
        "\n",
        "# Displaying our chart\n",
        "plt.show()"
      ]
    },
    {
      "cell_type": "markdown",
      "metadata": {
        "id": "S7RHtfr-Z9H-"
      },
      "source": [
        "-  Individuals with access to CellPhones have majorly opened a Bank Account compared to individuals with no cellphone access"
      ]
    },
    {
      "cell_type": "code",
      "execution_count": null,
      "metadata": {
        "colab": {
          "base_uri": "https://localhost:8080/",
          "height": 296
        },
        "id": "8bJvbLcbbIW2",
        "outputId": "c454593d-d1c3-4a75-bed7-dd83e8cc9f68"
      },
      "outputs": [
        {
          "data": {
            "image/png": "[encoded data removed]",
            "text/plain": [
              "<Figure size 432x288 with 1 Axes>"
            ]
          },
          "metadata": {},
          "output_type": "display_data"
        }
      ],
      "source": [
        "# Country where people are likely to own a bank account\n",
        "Country = data.groupby('Has_a_Bank_account')['country'].value_counts(normalize=True).unstack()\n",
        "Country.plot(kind='bar', stacked='True')\n",
        "\n",
        "# labelling our y axis\n",
        "plt.ylabel(\"Distribution\")\n",
        "\n",
        "# Creating a key/legend for our chart\n",
        "plt.legend(loc='center left',bbox_to_anchor=(1.0, 0.5));\n",
        "\n",
        "# Title\n",
        "plt.title(\"Country\")\n",
        "\n",
        "# Displaying our chart\n",
        "plt.show()"
      ]
    },
    {
      "cell_type": "markdown",
      "metadata": {
        "id": "Z3tgpcyrZtmu"
      },
      "source": [
        "- Respondents in Kenya have majorly opened a Bank Account"
      ]
    },
    {
      "cell_type": "code",
      "execution_count": null,
      "metadata": {
        "colab": {
          "base_uri": "https://localhost:8080/",
          "height": 516
        },
        "id": "JYDz1lIUgb7I",
        "outputId": "afc24b1e-d489-4667-9389-7631bfa49364"
      },
      "outputs": [
        {
          "name": "stdout",
          "output_type": "stream",
          "text": [
            "Has_a_Bank_account  -1      0     1\n",
            "Type_of_Location                   \n",
            "-1                   8      7     0\n",
            " 0                  11  12659  1668\n",
            " 1                  17   7513  1641\n"
          ]
        },
        {
          "data": {
            "text/plain": [
              "Text(0, 0.5, 'Distribution')"
            ]
          },
          "execution_count": 48,
          "metadata": {},
          "output_type": "execute_result"
        },
        {
          "data": {
            "image/png": "[encoded data removed]",
            "text/plain": [
              "<Figure size 432x432 with 1 Axes>"
            ]
          },
          "metadata": {},
          "output_type": "display_data"
        }
      ],
      "source": [
        "# create crosstab dataframe\n",
        "location = pd.crosstab(index=data['Type_of_Location'], columns=data['Has_a_Bank_account'])\n",
        "print(location)\n",
        "# plot chart\n",
        "location.plot(kind=\"bar\", figsize=(6,6))\n",
        "# label chart\n",
        "plt.title(\"Location vs bank account possession\")\n",
        "plt.ylabel(\"Distribution\")"
      ]
    },
    {
      "cell_type": "markdown",
      "metadata": {
        "id": "7lGBfkquZ6nx"
      },
      "source": [
        "Respondents in Rural areas many but their comparison with bank account ownership is not in tandem"
      ]
    },
    {
      "cell_type": "code",
      "execution_count": null,
      "metadata": {
        "colab": {
          "base_uri": "https://localhost:8080/",
          "height": 269
        },
        "id": "ESWsR_A6XcSs",
        "outputId": "e50fb3c3-5e87-46a1-d344-113707e677c6"
      },
      "outputs": [
        {
          "data": {
            "image/png": "[encoded data removed]",
            "text/plain": [
              "<Figure size 432x288 with 1 Axes>"
            ]
          },
          "metadata": {},
          "output_type": "display_data"
        }
      ],
      "source": [
        "# People from which type of jobs are most likely to own a bank account\n",
        "Job = data.groupby('Has_a_Bank_account')['Type_of_Job'].value_counts(normalize=True).unstack()\n",
        "Job.plot(kind='hist', stacked='True')\n",
        "JobType = data['Has_a_Bank_account'].value_counts()"
      ]
    },
    {
      "cell_type": "markdown",
      "metadata": {
        "id": "w-IceXFjo2Y_"
      },
      "source": [
        "- From the output, we can conclude that Individuals who do farming and fishing are most likely to have a bank account and those who are informally employed are less likely to have a bank account"
      ]
    },
    {
      "cell_type": "markdown",
      "metadata": {
        "id": "EPW6fgC8SUCS"
      },
      "source": [
        "# Multi-Variate Analysis"
      ]
    },
    {
      "cell_type": "code",
      "execution_count": null,
      "metadata": {
        "id": "Fyq4S4WaU-na"
      },
      "outputs": [],
      "source": [
        "x = data.drop(['uniqueid','Has_a_Bank_account','Respondent_Age','household_size'],axis=1)\n",
        "y = data['Has_a_Bank_account']"
      ]
    },
    {
      "cell_type": "code",
      "execution_count": null,
      "metadata": {
        "id": "98Ll5PDFqunV"
      },
      "outputs": [],
      "source": [
        "# Dividing the data into training and test sets\n",
        "from sklearn.model_selection import train_test_split\n",
        "x_train, x_test, y_train, y_test = train_test_split(x, y, test_size=0.2, random_state=0)"
      ]
    },
    {
      "cell_type": "code",
      "execution_count": null,
      "metadata": {
        "colab": {
          "base_uri": "https://localhost:8080/",
          "height": 246
        },
        "id": "oO3Y4Xo5q2S2",
        "outputId": "2e810902-20a2-404e-e77c-0eaf2099bc15"
      },
      "outputs": [
        {
          "ename": "NameError",
          "evalue": "ignored",
          "output_type": "error",
          "traceback": [
            "\u001b[0;31m---------------------------------------------------------------------------\u001b[0m",
            "\u001b[0;31mNameError\u001b[0m                                 Traceback (most recent call last)",
            "\u001b[0;32m<ipython-input-1-20e8361d334e>\u001b[0m in \u001b[0;36m<module>\u001b[0;34m\u001b[0m\n\u001b[1;32m      3\u001b[0m \u001b[0;34m\u001b[0m\u001b[0m\n\u001b[1;32m      4\u001b[0m \u001b[0msc\u001b[0m \u001b[0;34m=\u001b[0m \u001b[0mStandardScaler\u001b[0m\u001b[0;34m(\u001b[0m\u001b[0;34m)\u001b[0m\u001b[0;34m\u001b[0m\u001b[0;34m\u001b[0m\u001b[0m\n\u001b[0;32m----> 5\u001b[0;31m \u001b[0mx_train\u001b[0m \u001b[0;34m=\u001b[0m \u001b[0msc\u001b[0m\u001b[0;34m.\u001b[0m\u001b[0mfit_transform\u001b[0m\u001b[0;34m(\u001b[0m\u001b[0mx_train\u001b[0m\u001b[0;34m)\u001b[0m\u001b[0;34m\u001b[0m\u001b[0;34m\u001b[0m\u001b[0m\n\u001b[0m\u001b[1;32m      6\u001b[0m \u001b[0mx_test\u001b[0m \u001b[0;34m=\u001b[0m \u001b[0msc\u001b[0m\u001b[0;34m.\u001b[0m\u001b[0mtransform\u001b[0m\u001b[0;34m(\u001b[0m\u001b[0mx_test\u001b[0m\u001b[0;34m)\u001b[0m\u001b[0;34m\u001b[0m\u001b[0;34m\u001b[0m\u001b[0m\n\u001b[1;32m      7\u001b[0m \u001b[0mx_test\u001b[0m\u001b[0;34m\u001b[0m\u001b[0;34m\u001b[0m\u001b[0m\n",
            "\u001b[0;31mNameError\u001b[0m: name 'x_train' is not defined"
          ]
        }
      ],
      "source": [
        "# Performing feature scaling\n",
        "from sklearn.preprocessing import StandardScaler\n",
        "\n",
        "sc = StandardScaler()\n",
        "x_train = sc.fit_transform(x_train)\n",
        "x_test = sc.transform(x_test)\n",
        "x_test"
      ]
    },
    {
      "cell_type": "code",
      "execution_count": null,
      "metadata": {
        "id": "O-1SzGPpVi8C"
      },
      "outputs": [],
      "source": [
        "# Performing PCA with Scikit-Learn\n",
        "from sklearn.decomposition import PCA\n",
        "\n",
        "pca = PCA()\n",
        "x_train = pca.fit_transform(x_train)\n",
        "x_test = pca.transform(x_test)"
      ]
    },
    {
      "cell_type": "code",
      "execution_count": null,
      "metadata": {
        "colab": {
          "base_uri": "https://localhost:8080/"
        },
        "id": "ZaQM8TObW4Ye",
        "outputId": "dabb8955-9647-4402-df62-a6b2b12c023e"
      },
      "outputs": [
        {
          "data": {
            "text/plain": [
              "array([0.20096492, 0.17303076, 0.14547272, 0.11975838, 0.10420868,\n",
              "       0.07777997, 0.07447442, 0.0548376 , 0.04947255])"
            ]
          },
          "execution_count": 54,
          "metadata": {},
          "output_type": "execute_result"
        }
      ],
      "source": [
        "variance = pca.explained_variance_ratio_\n",
        "variance"
      ]
    },
    {
      "cell_type": "markdown",
      "metadata": {
        "id": "4u4lpSgiXSBR"
      },
      "source": [
        "- The first four variables cause the highest variance"
      ]
    },
    {
      "cell_type": "code",
      "execution_count": null,
      "metadata": {
        "id": "XEPYMlrOXZ94"
      },
      "outputs": [],
      "source": [
        "# Training and Making Predictions using Random forest classifier to evaluate the performance of PCA\n",
        "from sklearn.ensemble import RandomForestClassifier\n",
        "\n",
        "classifier = RandomForestClassifier(max_depth=2, random_state=0)\n",
        "classifier.fit(x_train, y_train)\n",
        "y_pred = classifier.predict(x_test)"
      ]
    },
    {
      "cell_type": "code",
      "execution_count": null,
      "metadata": {
        "colab": {
          "base_uri": "https://localhost:8080/"
        },
        "id": "dlQviKFiZx4m",
        "outputId": "41ea1914-d224-495f-f753-e4bc12f83f5e"
      },
      "outputs": [
        {
          "name": "stdout",
          "output_type": "stream",
          "text": [
            "Accuracy 0.8495217853347503\n"
          ]
        }
      ],
      "source": [
        "# Evaluating the Performance using a confusion matrix and finding the accuracy of the prediction.\n",
        "from sklearn.metrics import confusion_matrix\n",
        "from sklearn.metrics import accuracy_score\n",
        "\n",
        "cm = confusion_matrix(y_test, y_pred)\n",
        "print('Accuracy' , accuracy_score(y_test, y_pred))"
      ]
    },
    {
      "cell_type": "markdown",
      "metadata": {
        "id": "-5Crj16caaYY"
      },
      "source": [
        "- From the observation above, the model achieved an accuracy of 84.9% which shows that the model is a good fit and could be used to predict whether an individual has a bank account or not."
      ]
    },
    {
      "cell_type": "code",
      "execution_count": null,
      "metadata": {
        "colab": {
          "base_uri": "https://localhost:8080/"
        },
        "id": "YBqAx2LNsCIG",
        "outputId": "e15361f9-8223-41b3-cd10-28ec6289afb0"
      },
      "outputs": [
        {
          "name": "stdout",
          "output_type": "stream",
          "text": [
            "[[   0    9    0]\n",
            " [   0 3870  127]\n",
            " [   0  495  204]]\n",
            "Accuracy0.8658873538788523\n"
          ]
        }
      ],
      "source": [
        "# Performing LDA on the dataset with dropped Nan values\n",
        "from sklearn.discriminant_analysis import LinearDiscriminantAnalysis as LD\n",
        "lda = LDA(n_components=1)\n",
        "x_train = lda.fit_transform(x_train, y_train)\n",
        "x_test = lda.transform(x_test)\n",
        "\n",
        "#Divideing data into training and test sets\n",
        "classifier = RandomForestClassifier(max_depth=2, random_state=0)\n",
        "classifier.fit(x_train, y_train)\n",
        "y_pred = classifier.predict(x_test)\n",
        "\n",
        "# Confusion matrix and accuracy score\n",
        "cm = confusion_matrix(y_test, y_pred)\n",
        "print(cm)\n",
        "print('Accuracy' + str(accuracy_score(y_test, y_pred)))"
      ]
    },
    {
      "cell_type": "markdown",
      "metadata": {
        "id": "cUsJsBOl_jTf"
      },
      "source": [
        "#Conclusion"
      ]
    },
    {
      "cell_type": "markdown",
      "source": [
        "More refined data might increase the prediction accuracy of the data."
      ],
      "metadata": {
        "id": "joGnml4kUIvx"
      }
    }
  ],
  "metadata": {
    "colab": {
      "collapsed_sections": [],
      "provenance": [],
      "toc_visible": true,
      "authorship_tag": "ABX9TyOf57VQLpCJBu2J2KNhB4o6",
      "include_colab_link": true
    },
    "kernelspec": {
      "display_name": "Python 3",
      "name": "python3"
    },
    "language_info": {
      "name": "python"
    }
  },
  "nbformat": 4,
  "nbformat_minor": 0
}